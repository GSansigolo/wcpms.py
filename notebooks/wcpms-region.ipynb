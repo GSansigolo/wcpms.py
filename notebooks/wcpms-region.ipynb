{
 "cells": [
  {
   "cell_type": "markdown",
   "metadata": {
    "editable": true,
    "slideshow": {
     "slide_type": ""
    },
    "tags": []
   },
   "source": [
    "# <span style=\"color:#336699\">Web Crop Phenology Metrics Service (WCPMS) Region</span>\n",
    "<hr style=\"border:2px solid #0077b9;\">\n",
    "\n",
    "<div style=\"text-align: left;\">\n",
    "    <a href=\"https://nbviewer.jupyter.org/github/brazil-data-cube/code-gallery/\"><img src=\"https://raw.githubusercontent.com/jupyter/design/master/logos/Badges/nbviewer_badge.svg\" align=\"center\"/></a>\n",
    "</div>\n",
    "\n",
    "<br/>\n",
    "\n",
    "<div style=\"text-align: center;font-size: 90%;\">\n",
    "    Gabriel Sansigolo<sup><a href=\"https://orcid.org/0000-0003-0789-5858\"><i class=\"fab fa-lg fa-orcid\" style=\"color: #a6ce39\"></i></a></sup>\n",
    "    <br/><br/>\n",
    "    Earth Observation and Geoinformatics Division, National Institute for Space Research (INPE)\n",
    "    <br/>\n",
    "    Avenida dos Astronautas, 1758, Jardim da Granja, São José dos Campos, SP 12227-010, Brazil\n",
    "    <br/><br/>\n",
    "    Contact: <a href=\"mailto:brazildatacube@inpe.br\">brazildatacube@inpe.br</a>\n",
    "    <br/><br/>\n",
    "    Last Update: June 14, 2024\n",
    "</div>\n",
    "\n",
    "<br/>\n",
    "\n",
    "<div style=\"text-align: justify;  margin-left: 25%; margin-right: 25%;\">\n",
    "<b>Abstract.</b> This Jupyter Notebook explains how to use the WCPMS service to extract phenology metrics on regions from <em>Earth Observation Data Cubes</em>.\n",
    "</div>\n",
    "\n",
    "<br/>\n",
    "<div style=\"text-align: justify;  margin-left: 25%; margin-right: 25%;font-size: 75%; border-style: solid; border-color: #0077b9; border-width: 1px; padding: 5px;\">\n",
    "    <b>This Jupyter Notebook is a supplement to the following paper:</b>\n",
    "    <div style=\"margin-left: 10px; margin-right: 10px\">\n",
    "    Sansigolo, G.; Queiroz, G. R.; Ferreira, K. R.; Adami, M.; Körting, T.<a href=\"http://www.google.com\" target=\"_blank\">A Web Service for Crop Sowing and Harvesting Detection from Earth Observation Data Cubes.\n",
    "    </div>\n",
    "</div>"
   ]
  },
  {
   "cell_type": "markdown",
   "metadata": {},
   "source": [
    "# Introduction\n",
    "<hr style=\"border:1px solid #0077b9;\">"
   ]
  },
  {
   "cell_type": "markdown",
   "metadata": {},
   "source": [
    "The Web Crop Phenology Metrics Service (WCPMS) is open-source web service for calculating phenological metrics based on the Earth Observation Data from the Brazil Data Cube (BDC). It will allow users to easily calculate phenological metrics from data cubes without downloading big EO datasets to their personal computers. \n",
    "\n",
    "The software will run on the server side, so it doesn't require any package installation or user programming skills to use it. By giving a point or a region it will retrieve the phenological metrics associated with spatial locations by calculating it using time series.\n",
    "\n",
    "WCPMS API is composed of four operations:\n",
    "\n",
    "- ``list_collections``: returns in list form the unique identifier of each of the data cubes available in the BDC's SpatioTemporal Asset Catalogs (STAC).\n",
    "\n",
    "- ``describe``: returns in dictionary format the information on each of the phenology metrics, such as code, name, description and method. \t\n",
    "\n",
    "- ``phenometrics``: returns in dictionary form all the phenological metrics calculated for the given spatial location. \n",
    "\n",
    "- ``phenometrics (region)``: returns in list form  dictionary with the phenological metrics calculated for each of the given spatial location based on selected region methodology (all, systematic grid or random grid).\n",
    "\n",
    "This Jupyter Notebook shows how to use WCPMS in Python."
   ]
  },
  {
   "cell_type": "markdown",
   "metadata": {},
   "source": [
    "## Web Service\n",
    "<hr style=\"border:1px solid #0077b9;\">"
   ]
  },
  {
   "cell_type": "markdown",
   "metadata": {},
   "source": [
    "\n",
    "The architecture of the proposed web service is made up of two sides: (1) the server-side and (2) the client-side. It will allow users to calculate phenological metrics from data cubes without needing to download big EO datasets to their personal computers. The web service, run on the server-side, so everything related to it, such as the libraries for calculating phenological metrics, the access to the web service for extracting time series (WTSS), is on the cloud, so it doesn't require any package installation or user programming skills to use it. \n",
    "\n",
    "The WCPMS is an open-source web service for calculating phenological metrics based on the Earth Observation Data from the Brazil Data Cube (BDC), as illustrated in Figure 1. Through a simple API, users indicate a spatial location or region and the WCPMS will retrieve the phenological metrics associated with spatial locations by calculating it using time series.\n",
    "\n",
    "<div align=\"center\">\n",
    "    <figcaption><strong>Figure 1</strong> - Web Crop Phenology Metrics Service (WCPMS) retrieving the Start of Season (SOS), End of Season (EOS), Valley of Season (VOS), Peak of Season (POS) and Length of Season (LOS) associated to a spatial location </figcaption>\n",
    "    <img src=\"https://github.com/brazil-data-cube/wcpms.py/blob/master/images/wcpms_work.png?raw=true\" align=\"center\" width=\"768\"/>\n",
    "    <br>\n",
    "</div>\n"
   ]
  },
  {
   "cell_type": "markdown",
   "metadata": {},
   "source": [
    "# Python Client API\n",
    "<hr style=\"border:1px solid #0077b9;\">"
   ]
  },
  {
   "cell_type": "markdown",
   "metadata": {},
   "source": [
    "For running the examples in this Jupyter Notebook you will need to install the [WCPMS client for Python](https://github.com/brazil-data-cube/wcpms.py). To install it from PyPI using `pip`, use the following command:"
   ]
  },
  {
   "cell_type": "code",
   "execution_count": 1,
   "metadata": {
    "editable": true,
    "scrolled": true,
    "slideshow": {
     "slide_type": ""
    },
    "tags": []
   },
   "outputs": [],
   "source": [
    "#!pip install git+https://github.com/brazil-data-cube/wcpms.py"
   ]
  },
  {
   "cell_type": "markdown",
   "metadata": {},
   "source": [
    "In order to access the funcionalities of the client API, you should import the `wcpms` package and `os` package, as follows:"
   ]
  },
  {
   "cell_type": "code",
   "execution_count": 2,
   "metadata": {},
   "outputs": [],
   "source": [
    "import os\n",
    "from wcpms import *"
   ]
  },
  {
   "cell_type": "markdown",
   "metadata": {},
   "source": [
    "After that, you should add the `wcpms` service url:"
   ]
  },
  {
   "cell_type": "code",
   "execution_count": 3,
   "metadata": {},
   "outputs": [],
   "source": [
    "wcpms_url = 'http://127.0.0.1:5000' #'http://data.inpe.br/bdc/wcpms' "
   ]
  },
  {
   "cell_type": "markdown",
   "metadata": {},
   "source": [
    "The above cell will create an string named `service` that will save the wcpms url for future use."
   ]
  },
  {
   "cell_type": "markdown",
   "metadata": {},
   "source": [
    "# Creating a Data Cube Query\n",
    "<hr style=\"border:1px solid #0077b9;\">\n",
    "\n",
    "To make it easier to use, there is a function to create a data cube query called `cube_query`:"
   ]
  },
  {
   "cell_type": "code",
   "execution_count": 4,
   "metadata": {},
   "outputs": [],
   "source": [
    "datacube=cube_query(\n",
    "    collection=\"S2-16D-2\",\n",
    "    start_date=\"2022-01-01\",\n",
    "    end_date=\"2022-12-31\",\n",
    "    freq=\"16D\",\n",
    "    band=\"NDVI\"\n",
    ")"
   ]
  },
  {
   "cell_type": "markdown",
   "metadata": {},
   "source": [
    "# Opening a shapefile to select a region\n",
    "<hr style=\"border:1px solid #0077b9;\">\n",
    "\n",
    "To easily open a shapefile you can use the geopandas (gpd) contained in the wcpms library, there is a function called `gpd_shapefile`:"
   ]
  },
  {
   "cell_type": "code",
   "execution_count": 5,
   "metadata": {},
   "outputs": [],
   "source": [
    "path_dir = os.path.dirname(\"\")"
   ]
  },
  {
   "cell_type": "code",
   "execution_count": 6,
   "metadata": {},
   "outputs": [
    {
     "data": {
      "text/html": [
       "<div>\n",
       "<style scoped>\n",
       "    .dataframe tbody tr th:only-of-type {\n",
       "        vertical-align: middle;\n",
       "    }\n",
       "\n",
       "    .dataframe tbody tr th {\n",
       "        vertical-align: top;\n",
       "    }\n",
       "\n",
       "    .dataframe thead th {\n",
       "        text-align: right;\n",
       "    }\n",
       "</style>\n",
       "<table border=\"1\" class=\"dataframe\">\n",
       "  <thead>\n",
       "    <tr style=\"text-align: right;\">\n",
       "      <th></th>\n",
       "      <th>GLEBA_GID</th>\n",
       "      <th>REF_BACEN</th>\n",
       "      <th>NU_ORDEM</th>\n",
       "      <th>NU_INDICE</th>\n",
       "      <th>DATA_EMISS</th>\n",
       "      <th>AREA_GLEBA</th>\n",
       "      <th>PERIMETRO_</th>\n",
       "      <th>AREA_MENOR</th>\n",
       "      <th>AREA_ME_01</th>\n",
       "      <th>PRODUTO</th>\n",
       "      <th>PROAGRO_EV</th>\n",
       "      <th>PROAGRO_ST</th>\n",
       "      <th>geometry</th>\n",
       "    </tr>\n",
       "  </thead>\n",
       "  <tbody>\n",
       "    <tr>\n",
       "      <th>0</th>\n",
       "      <td>90823.0</td>\n",
       "      <td>515439159</td>\n",
       "      <td>1</td>\n",
       "      <td>0</td>\n",
       "      <td>2023-02-13</td>\n",
       "      <td>430133.752674</td>\n",
       "      <td>2789.87208</td>\n",
       "      <td>510114.773209</td>\n",
       "      <td>863178.683342</td>\n",
       "      <td>trigo</td>\n",
       "      <td>chuva excessiva</td>\n",
       "      <td>deferida</td>\n",
       "      <td>POLYGON ((-53.8895 -27.64728, -53.89079 -27.64...</td>\n",
       "    </tr>\n",
       "  </tbody>\n",
       "</table>\n",
       "</div>"
      ],
      "text/plain": [
       "   GLEBA_GID  REF_BACEN  NU_ORDEM  NU_INDICE DATA_EMISS     AREA_GLEBA  \\\n",
       "0    90823.0  515439159         1          0 2023-02-13  430133.752674   \n",
       "\n",
       "   PERIMETRO_     AREA_MENOR     AREA_ME_01 PRODUTO       PROAGRO_EV  \\\n",
       "0  2789.87208  510114.773209  863178.683342   trigo  chuva excessiva   \n",
       "\n",
       "  PROAGRO_ST                                           geometry  \n",
       "0   deferida  POLYGON ((-53.8895 -27.64728, -53.89079 -27.64...  "
      ]
     },
     "execution_count": 6,
     "metadata": {},
     "output_type": "execute_result"
    }
   ],
   "source": [
    "polygon = gpd_shapefile(os.path.join(path_dir, \"shp/GLEBA_90823.shp\"))\n",
    "\n",
    "polygon"
   ]
  },
  {
   "cell_type": "markdown",
   "metadata": {},
   "source": [
    "# Retrieving the Phenological Metrics for Region\n",
    "<hr style=\"border:1px solid #0077b9;\">\n",
    "\n",
    "In order to retrieve the phenological metrics associated with a region, it's necessary to define a region methodology (`all`, `systematic` or `random`), with that the metrics are calculated using time series `NDVI`, for each of the given spatial location from `January 1st, 2022` to `December 31st, 2022`, use the `get_phenometrics_region` function:"
   ]
  },
  {
   "cell_type": "code",
   "execution_count": 7,
   "metadata": {},
   "outputs": [],
   "source": [
    "pms=get_phenometrics_region(\n",
    "    url=wcpms_url,\n",
    "    cube=datacube,\n",
    "    geom=gdf_to_geojson(polygon[\"geometry\"]),\n",
    "    method=\"systematic\",\n",
    "\tdistance=\"0.02\"\n",
    ")"
   ]
  },
  {
   "cell_type": "code",
   "execution_count": null,
   "metadata": {},
   "outputs": [],
   "source": [
    "pms"
   ]
  },
  {
   "cell_type": "code",
   "execution_count": 13,
   "metadata": {},
   "outputs": [
    {
     "data": {
      "image/png": "[encoded data removed]",
      "text/plain": [
       "<Figure size 640x480 with 1 Axes>"
      ]
     },
     "metadata": {},
     "output_type": "display_data"
    }
   ],
   "source": [
    "import geopandas as gpd\n",
    "import matplotlib.pyplot as plt\n",
    "\n",
    "x, y = [],[]\n",
    "for p in pms:\n",
    "    x.append(p[\"point\"][0])\n",
    "    y.append(p[\"point\"][1])\n",
    "gpd.GeoSeries(polygon[\"geometry\"]).plot(color='red', alpha=0.25)\n",
    "plt.scatter(x,y) \n",
    "plt.show() "
   ]
  },
  {
   "cell_type": "markdown",
   "metadata": {},
   "source": [
    "# References\n",
    "<hr style=\"border:1px solid #0077b9;\">"
   ]
  },
  {
   "cell_type": "markdown",
   "metadata": {},
   "source": []
  },
  {
   "cell_type": "markdown",
   "metadata": {
    "editable": true,
    "slideshow": {
     "slide_type": ""
    },
    "tags": []
   },
   "source": [
    "# See also the following Jupyter Notebooks\n",
    "<hr style=\"border:1px solid #0077b9;\">\n",
    "\n",
    "* [WTSS Examples](./wtss-examples.ipynb)"
   ]
  }
 ],
 "metadata": {
  "kernelspec": {
   "display_name": "Python 3",
   "language": "python",
   "name": "python3"
  },
  "language_info": {
   "codemirror_mode": {
    "name": "ipython",
    "version": 3
   },
   "file_extension": ".py",
   "mimetype": "text/x-python",
   "name": "python",
   "nbconvert_exporter": "python",
   "pygments_lexer": "ipython3",
   "version": "3.12.3"
  }
 },
 "nbformat": 4,
 "nbformat_minor": 4
}
