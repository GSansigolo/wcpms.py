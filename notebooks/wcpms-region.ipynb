{
 "cells": [
  {
   "cell_type": "markdown",
   "metadata": {
    "editable": true,
    "slideshow": {
     "slide_type": ""
    },
    "tags": []
   },
   "source": [
    "# <span style=\"color:#336699\">Web Crop Phenology Metrics Service (WCPMS) Region</span>\n",
    "<hr style=\"border:2px solid #0077b9;\">\n",
    "\n",
    "<div style=\"text-align: left;\">\n",
    "    <a href=\"https://nbviewer.jupyter.org/github/brazil-data-cube/code-gallery/\"><img src=\"https://raw.githubusercontent.com/jupyter/design/master/logos/Badges/nbviewer_badge.svg\" align=\"center\"/></a>\n",
    "</div>\n",
    "\n",
    "<br/>\n",
    "\n",
    "<div style=\"text-align: center;font-size: 90%;\">\n",
    "    Gabriel Sansigolo<sup><a href=\"https://orcid.org/0000-0003-0789-5858\"><i class=\"fab fa-lg fa-orcid\" style=\"color: #a6ce39\"></i></a></sup>\n",
    "    <br/><br/>\n",
    "    Earth Observation and Geoinformatics Division, National Institute for Space Research (INPE)\n",
    "    <br/>\n",
    "    Avenida dos Astronautas, 1758, Jardim da Granja, São José dos Campos, SP 12227-010, Brazil\n",
    "    <br/><br/>\n",
    "    Contact: <a href=\"mailto:brazildatacube@inpe.br\">brazildatacube@inpe.br</a>\n",
    "    <br/><br/>\n",
    "    Last Update: June 14, 2024\n",
    "</div>\n",
    "\n",
    "<br/>\n",
    "\n",
    "<div style=\"text-align: justify;  margin-left: 25%; margin-right: 25%;\">\n",
    "<b>Abstract.</b> This Jupyter Notebook explains how to use the WCPMS service to extract phenology metrics on regions from <em>Earth Observation Data Cubes</em>.\n",
    "</div>\n",
    "\n",
    "<br/>\n",
    "<div style=\"text-align: justify;  margin-left: 25%; margin-right: 25%;font-size: 75%; border-style: solid; border-color: #0077b9; border-width: 1px; padding: 5px;\">\n",
    "    <b>This Jupyter Notebook is a supplement to the following paper:</b>\n",
    "    <div style=\"margin-left: 10px; margin-right: 10px\">\n",
    "    Sansigolo, G.; Queiroz, G. R.; Ferreira, K. R.; Adami, M.; Körting, T.<a href=\"http://www.google.com\" target=\"_blank\">A Web Service for Crop Sowing and Harvesting Detection from Earth Observation Data Cubes.\n",
    "    </div>\n",
    "</div>"
   ]
  },
  {
   "cell_type": "markdown",
   "metadata": {},
   "source": [
    "# Introduction\n",
    "<hr style=\"border:1px solid #0077b9;\">"
   ]
  },
  {
   "cell_type": "markdown",
   "metadata": {},
   "source": [
    "The Web Crop Phenology Metrics Service (WCPMS) is open-source web service for calculating phenological metrics based on the Earth Observation Data from the Brazil Data Cube (BDC). It will allow users to easily calculate phenological metrics from data cubes without downloading big EO datasets to their personal computers. \n",
    "\n",
    "The software will run on the server side, so it doesn't require any package installation or user programming skills to use it. By giving a point or a region it will retrieve the phenological metrics associated with spatial locations by calculating it using time series.\n",
    "\n",
    "WCPMS API is composed of four operations:\n",
    "\n",
    "- ``list_collections``: returns in list form the unique identifier of each of the data cubes available in the BDC's SpatioTemporal Asset Catalogs (STAC).\n",
    "\n",
    "- ``describe``: returns in dictionary format the information on each of the phenology metrics, such as code, name, description and method. \t\n",
    "\n",
    "- ``phenometrics``: returns in dictionary form all the phenological metrics calculated for the given spatial location. \n",
    "\n",
    "- ``phenometrics (region)``: returns in list form  dictionary with the phenological metrics calculated for each of the given spatial location based on selected region methodology (all, systematic grid or random grid).\n",
    "\n",
    "This Jupyter Notebook shows how to use WCPMS in Python."
   ]
  },
  {
   "cell_type": "markdown",
   "metadata": {},
   "source": [
    "## Web Service\n",
    "<hr style=\"border:1px solid #0077b9;\">"
   ]
  },
  {
   "cell_type": "markdown",
   "metadata": {},
   "source": [
    "\n",
    "The architecture of the proposed web service is made up of two sides: (1) the server-side and (2) the client-side. It will allow users to calculate phenological metrics from data cubes without needing to download big EO datasets to their personal computers. The web service, run on the server-side, so everything related to it, such as the libraries for calculating phenological metrics, the access to the web service for extracting time series (WTSS), is on the cloud, so it doesn't require any package installation or user programming skills to use it. \n",
    "\n",
    "The WCPMS is an open-source web service for calculating phenological metrics based on the Earth Observation Data from the Brazil Data Cube (BDC), as illustrated in Figure 1. Through a simple API, users indicate a spatial location or region and the WCPMS will retrieve the phenological metrics associated with spatial locations by calculating it using time series.\n",
    "\n",
    "<div align=\"center\">\n",
    "    <figcaption><strong>Figure 1</strong> - Web Crop Phenology Metrics Service (WCPMS) retrieving the Start of Season (SOS), End of Season (EOS), Valley of Season (VOS), Peak of Season (POS) and Length of Season (LOS) associated to a spatial location </figcaption>\n",
    "    <img src=\"https://github.com/GSansigolo/wcpms.py/blob/master/images/wcpms_work.png?raw=true\" align=\"center\" width=\"768\"/>\n",
    "    <br>\n",
    "</div>\n"
   ]
  },
  {
   "cell_type": "markdown",
   "metadata": {},
   "source": [
    "# Python Client API\n",
    "<hr style=\"border:1px solid #0077b9;\">"
   ]
  },
  {
   "cell_type": "markdown",
   "metadata": {},
   "source": [
    "For running the examples in this Jupyter Notebook you will need to install the [WCPMS client for Python](https://github.com/brazil-data-cube/wcpms.py). To install it from PyPI using `pip`, use the following command:"
   ]
  },
  {
   "cell_type": "code",
   "execution_count": 1,
   "metadata": {
    "editable": true,
    "scrolled": true,
    "slideshow": {
     "slide_type": ""
    },
    "tags": []
   },
   "outputs": [
    {
     "name": "stdout",
     "output_type": "stream",
     "text": [
      "Collecting git+https://github.com/brazil-data-cube/wcpms.py\n",
      "  Cloning https://github.com/brazil-data-cube/wcpms.py to /private/var/folders/2b/3r28ml1d7yj3ltn73r94__hr0000gn/T/pip-req-build-1lpz216e\n",
      "  Running command git clone --filter=blob:none --quiet https://github.com/brazil-data-cube/wcpms.py /private/var/folders/2b/3r28ml1d7yj3ltn73r94__hr0000gn/T/pip-req-build-1lpz216e\n",
      "  Resolved https://github.com/brazil-data-cube/wcpms.py to commit c586991d20e0b50f1a8abe04cbb52e96e9677140\n",
      "  Installing build dependencies ... \u001b[?25ldone\n",
      "\u001b[?25h  Getting requirements to build wheel ... \u001b[?25ldone\n",
      "\u001b[?25h  Installing backend dependencies ... \u001b[?25ldone\n",
      "\u001b[?25h  Preparing metadata (pyproject.toml) ... \u001b[?25ldone\n",
      "\u001b[?25hRequirement already satisfied: urllib3==2.2.2 in /Library/Frameworks/Python.framework/Versions/3.11/lib/python3.11/site-packages (from wcpms==0.0.1) (2.2.2)\n",
      "Requirement already satisfied: requests==2.32.3 in /Library/Frameworks/Python.framework/Versions/3.11/lib/python3.11/site-packages (from wcpms==0.0.1) (2.32.3)\n",
      "Requirement already satisfied: pandas==2.2.2 in /Library/Frameworks/Python.framework/Versions/3.11/lib/python3.11/site-packages (from wcpms==0.0.1) (2.2.2)\n",
      "Requirement already satisfied: matplotlib==3.9.0 in /Library/Frameworks/Python.framework/Versions/3.11/lib/python3.11/site-packages (from wcpms==0.0.1) (3.9.0)\n",
      "Requirement already satisfied: scipy==1.13.1 in /Library/Frameworks/Python.framework/Versions/3.11/lib/python3.11/site-packages (from wcpms==0.0.1) (1.13.1)\n",
      "Requirement already satisfied: datetime==5.5 in /Library/Frameworks/Python.framework/Versions/3.11/lib/python3.11/site-packages (from wcpms==0.0.1) (5.5)\n",
      "Requirement already satisfied: zope.interface in /Library/Frameworks/Python.framework/Versions/3.11/lib/python3.11/site-packages (from datetime==5.5->wcpms==0.0.1) (6.4.post2)\n",
      "Requirement already satisfied: pytz in /Library/Frameworks/Python.framework/Versions/3.11/lib/python3.11/site-packages (from datetime==5.5->wcpms==0.0.1) (2023.3.post1)\n",
      "Requirement already satisfied: contourpy>=1.0.1 in /Library/Frameworks/Python.framework/Versions/3.11/lib/python3.11/site-packages (from matplotlib==3.9.0->wcpms==0.0.1) (1.2.1)\n",
      "Requirement already satisfied: cycler>=0.10 in /Library/Frameworks/Python.framework/Versions/3.11/lib/python3.11/site-packages (from matplotlib==3.9.0->wcpms==0.0.1) (0.12.1)\n",
      "Requirement already satisfied: fonttools>=4.22.0 in /Library/Frameworks/Python.framework/Versions/3.11/lib/python3.11/site-packages (from matplotlib==3.9.0->wcpms==0.0.1) (4.53.1)\n",
      "Requirement already satisfied: kiwisolver>=1.3.1 in /Library/Frameworks/Python.framework/Versions/3.11/lib/python3.11/site-packages (from matplotlib==3.9.0->wcpms==0.0.1) (1.4.5)\n",
      "Requirement already satisfied: numpy>=1.23 in /Library/Frameworks/Python.framework/Versions/3.11/lib/python3.11/site-packages (from matplotlib==3.9.0->wcpms==0.0.1) (1.26.3)\n",
      "Requirement already satisfied: packaging>=20.0 in /Library/Frameworks/Python.framework/Versions/3.11/lib/python3.11/site-packages (from matplotlib==3.9.0->wcpms==0.0.1) (23.2)\n",
      "Requirement already satisfied: pillow>=8 in /Library/Frameworks/Python.framework/Versions/3.11/lib/python3.11/site-packages (from matplotlib==3.9.0->wcpms==0.0.1) (10.4.0)\n",
      "Requirement already satisfied: pyparsing>=2.3.1 in /Library/Frameworks/Python.framework/Versions/3.11/lib/python3.11/site-packages (from matplotlib==3.9.0->wcpms==0.0.1) (3.1.1)\n",
      "Requirement already satisfied: python-dateutil>=2.7 in /Library/Frameworks/Python.framework/Versions/3.11/lib/python3.11/site-packages (from matplotlib==3.9.0->wcpms==0.0.1) (2.8.2)\n",
      "Requirement already satisfied: tzdata>=2022.7 in /Library/Frameworks/Python.framework/Versions/3.11/lib/python3.11/site-packages (from pandas==2.2.2->wcpms==0.0.1) (2023.4)\n",
      "Requirement already satisfied: charset-normalizer<4,>=2 in /Library/Frameworks/Python.framework/Versions/3.11/lib/python3.11/site-packages (from requests==2.32.3->wcpms==0.0.1) (3.3.2)\n",
      "Requirement already satisfied: idna<4,>=2.5 in /Library/Frameworks/Python.framework/Versions/3.11/lib/python3.11/site-packages (from requests==2.32.3->wcpms==0.0.1) (3.6)\n",
      "Requirement already satisfied: certifi>=2017.4.17 in /Library/Frameworks/Python.framework/Versions/3.11/lib/python3.11/site-packages (from requests==2.32.3->wcpms==0.0.1) (2023.11.17)\n",
      "Requirement already satisfied: six>=1.5 in /Library/Frameworks/Python.framework/Versions/3.11/lib/python3.11/site-packages (from python-dateutil>=2.7->matplotlib==3.9.0->wcpms==0.0.1) (1.16.0)\n",
      "Requirement already satisfied: setuptools in /Library/Frameworks/Python.framework/Versions/3.11/lib/python3.11/site-packages (from zope.interface->datetime==5.5->wcpms==0.0.1) (65.5.0)\n",
      "\n",
      "\u001b[1m[\u001b[0m\u001b[34;49mnotice\u001b[0m\u001b[1;39;49m]\u001b[0m\u001b[39;49m A new release of pip is available: \u001b[0m\u001b[31;49m24.0\u001b[0m\u001b[39;49m -> \u001b[0m\u001b[32;49m24.2\u001b[0m\n",
      "\u001b[1m[\u001b[0m\u001b[34;49mnotice\u001b[0m\u001b[1;39;49m]\u001b[0m\u001b[39;49m To update, run: \u001b[0m\u001b[32;49mpip install --upgrade pip\u001b[0m\n"
     ]
    }
   ],
   "source": [
    "!pip install git+https://github.com/brazil-data-cube/wcpms.py"
   ]
  },
  {
   "cell_type": "markdown",
   "metadata": {},
   "source": [
    "In order to access the funcionalities of the client API, you should import the `wcpms` package and `os` package, as follows:"
   ]
  },
  {
   "cell_type": "code",
   "execution_count": 2,
   "metadata": {},
   "outputs": [],
   "source": [
    "import os\n",
    "from wcpms import *\n",
    "import geopandas as gpd\n",
    "import matplotlib.pyplot as plt"
   ]
  },
  {
   "cell_type": "markdown",
   "metadata": {},
   "source": [
    "After that, you should add the `wcpms` service url:"
   ]
  },
  {
   "cell_type": "code",
   "execution_count": 3,
   "metadata": {},
   "outputs": [],
   "source": [
    "wcpms_url = 'https://data.inpe.br/bdc/wcpms' "
   ]
  },
  {
   "cell_type": "markdown",
   "metadata": {},
   "source": [
    "The above cell will create an string named `service` that will save the wcpms url for future use."
   ]
  },
  {
   "cell_type": "markdown",
   "metadata": {},
   "source": [
    "# Creating a Data Cube Query\n",
    "<hr style=\"border:1px solid #0077b9;\">\n",
    "\n",
    "To make it easier to use, there is a function to create a data cube query called `cube_query`:"
   ]
  },
  {
   "cell_type": "code",
   "execution_count": 4,
   "metadata": {},
   "outputs": [],
   "source": [
    "datacube=cube_query(\n",
    "    collection=\"S2-16D-2\",\n",
    "    start_date=\"2022-01-01\",\n",
    "    end_date=\"2022-12-31\",\n",
    "    freq=\"16D\",\n",
    "    band=\"NDVI\"\n",
    ")"
   ]
  },
  {
   "cell_type": "markdown",
   "metadata": {},
   "source": [
    "# Opening a shapefile to select a region\n",
    "<hr style=\"border:1px solid #0077b9;\">\n",
    "\n",
    "To easily open a shapefile you can use the geopandas (gpd) contained in the wcpms library, there is a function called `gpd_shapefile`:"
   ]
  },
  {
   "cell_type": "code",
   "execution_count": 5,
   "metadata": {},
   "outputs": [],
   "source": [
    "path_dir = os.path.dirname(\"\")"
   ]
  },
  {
   "cell_type": "code",
   "execution_count": 6,
   "metadata": {},
   "outputs": [
    {
     "data": {
      "text/html": [
       "<div>\n",
       "<style scoped>\n",
       "    .dataframe tbody tr th:only-of-type {\n",
       "        vertical-align: middle;\n",
       "    }\n",
       "\n",
       "    .dataframe tbody tr th {\n",
       "        vertical-align: top;\n",
       "    }\n",
       "\n",
       "    .dataframe thead th {\n",
       "        text-align: right;\n",
       "    }\n",
       "</style>\n",
       "<table border=\"1\" class=\"dataframe\">\n",
       "  <thead>\n",
       "    <tr style=\"text-align: right;\">\n",
       "      <th></th>\n",
       "      <th>GLEBA_GID</th>\n",
       "      <th>REF_BACEN</th>\n",
       "      <th>NU_ORDEM</th>\n",
       "      <th>NU_INDICE</th>\n",
       "      <th>DATA_EMISS</th>\n",
       "      <th>AREA_GLEBA</th>\n",
       "      <th>PERIMETRO_</th>\n",
       "      <th>AREA_MENOR</th>\n",
       "      <th>AREA_ME_01</th>\n",
       "      <th>PRODUTO</th>\n",
       "      <th>PROAGRO_EV</th>\n",
       "      <th>PROAGRO_ST</th>\n",
       "      <th>geometry</th>\n",
       "    </tr>\n",
       "  </thead>\n",
       "  <tbody>\n",
       "    <tr>\n",
       "      <th>0</th>\n",
       "      <td>90823.0</td>\n",
       "      <td>515439159</td>\n",
       "      <td>1</td>\n",
       "      <td>0</td>\n",
       "      <td>2023-02-13</td>\n",
       "      <td>430133.752674</td>\n",
       "      <td>2789.87208</td>\n",
       "      <td>510114.773209</td>\n",
       "      <td>863178.683342</td>\n",
       "      <td>trigo</td>\n",
       "      <td>chuva excessiva</td>\n",
       "      <td>deferida</td>\n",
       "      <td>POLYGON ((-53.8895 -27.64728, -53.89079 -27.64...</td>\n",
       "    </tr>\n",
       "  </tbody>\n",
       "</table>\n",
       "</div>"
      ],
      "text/plain": [
       "   GLEBA_GID  REF_BACEN  NU_ORDEM  NU_INDICE DATA_EMISS     AREA_GLEBA  \\\n",
       "0    90823.0  515439159         1          0 2023-02-13  430133.752674   \n",
       "\n",
       "   PERIMETRO_     AREA_MENOR     AREA_ME_01 PRODUTO       PROAGRO_EV  \\\n",
       "0  2789.87208  510114.773209  863178.683342   trigo  chuva excessiva   \n",
       "\n",
       "  PROAGRO_ST                                           geometry  \n",
       "0   deferida  POLYGON ((-53.8895 -27.64728, -53.89079 -27.64...  "
      ]
     },
     "execution_count": 6,
     "metadata": {},
     "output_type": "execute_result"
    }
   ],
   "source": [
    "polygon = gpd_shapefile(os.path.join(path_dir, \"shp/GLEBA_90823.shp\"))\n",
    "\n",
    "polygon"
   ]
  },
  {
   "cell_type": "markdown",
   "metadata": {},
   "source": [
    "In order to retrieve the phenological metrics associated with a region, it's necessary to define a region methodology (`all`, `systematic` or `random`)."
   ]
  },
  {
   "cell_type": "markdown",
   "metadata": {},
   "source": [
    "# Retrieving the Phenological Metrics for Region (Systematic)\n",
    "<hr style=\"border:1px solid #0077b9;\">\n",
    "\n",
    "In order to retrieve the phenological metrics associated with a region via `systematic` methodology, with that the metrics are calculated using time series `NDVI`, for each of the given spatial location from `January 1st, 2022` to `December 31st, 2022` and distance of 0.04 km, use the `get_phenometrics_region` function:"
   ]
  },
  {
   "cell_type": "code",
   "execution_count": 7,
   "metadata": {},
   "outputs": [],
   "source": [
    "pms=get_phenometrics_region(\n",
    "    url=wcpms_url,\n",
    "    cube=datacube,\n",
    "    geom=gdf_to_geojson(polygon[\"geometry\"]),\n",
    "    method=\"systematic\",\n",
    "\tdistance=\"0.04\"\n",
    ")"
   ]
  },
  {
   "cell_type": "code",
   "execution_count": 8,
   "metadata": {},
   "outputs": [
    {
     "data": {
      "image/png": "[encoded data removed]",
      "text/plain": [
       "<Figure size 640x480 with 1 Axes>"
      ]
     },
     "metadata": {},
     "output_type": "display_data"
    }
   ],
   "source": [
    "x, y = [],[]\n",
    "for p in pms:\n",
    "    x.append(p[\"point\"][0])\n",
    "    y.append(p[\"point\"][1])\n",
    "gpd.GeoSeries(polygon[\"geometry\"]).plot(color='red', alpha=0.25)\n",
    "plt.scatter(x,y) \n",
    "plt.show() "
   ]
  },
  {
   "cell_type": "code",
   "execution_count": 9,
   "metadata": {},
   "outputs": [
    {
     "data": {
      "text/plain": [
       "41"
      ]
     },
     "execution_count": 9,
     "metadata": {},
     "output_type": "execute_result"
    }
   ],
   "source": [
    "len(pms)"
   ]
  },
  {
   "cell_type": "code",
   "execution_count": 10,
   "metadata": {},
   "outputs": [
    {
     "data": {
      "text/plain": [
       "{'phenometrics': {'aos_v': 7057.3330078125,\n",
       "  'bse_v': 2153.16650390625,\n",
       "  'eos_t': '2022-11-02T00:00:00',\n",
       "  'eos_v': 3235.666748046875,\n",
       "  'lios_v': 116057.84375,\n",
       "  'liot_v': 120402.09375,\n",
       "  'los_v': 304.0,\n",
       "  'mos_v': 8212.4580078125,\n",
       "  'pos_t': '2022-08-30T00:00:00',\n",
       "  'pos_v': 8623.3330078125,\n",
       "  'rod_v': 84.18228149414062,\n",
       "  'roi_v': 24.512500762939453,\n",
       "  'sios_v': 85520.84375,\n",
       "  'siot_v': 85950.09375,\n",
       "  'sos_t': '2022-01-02T00:00:00',\n",
       "  'sos_v': 2740.333251953125,\n",
       "  'vos_t': '2022-11-18T00:00:00',\n",
       "  'vos_v': 1566.0},\n",
       " 'point': [-53.888882688762095, -27.64698128553749],\n",
       " 'timeline': ['2022-01-01',\n",
       "  '2022-01-17',\n",
       "  '2022-02-02',\n",
       "  '2022-02-18',\n",
       "  '2022-03-06',\n",
       "  '2022-03-22',\n",
       "  '2022-04-07',\n",
       "  '2022-04-23',\n",
       "  '2022-05-09',\n",
       "  '2022-05-25',\n",
       "  '2022-06-10',\n",
       "  '2022-06-26',\n",
       "  '2022-07-12',\n",
       "  '2022-07-28',\n",
       "  '2022-08-13',\n",
       "  '2022-08-29',\n",
       "  '2022-09-14',\n",
       "  '2022-09-30',\n",
       "  '2022-10-16',\n",
       "  '2022-11-01',\n",
       "  '2022-11-17',\n",
       "  '2022-12-03',\n",
       "  '2022-12-19'],\n",
       " 'timeseries': [2740.333251953125,\n",
       "  4455.33349609375,\n",
       "  5743.0,\n",
       "  6897.0,\n",
       "  6716.0,\n",
       "  5371.66650390625,\n",
       "  4370.0,\n",
       "  4356.66650390625,\n",
       "  5272.66650390625,\n",
       "  4591.0,\n",
       "  4511.33349609375,\n",
       "  4897.33349609375,\n",
       "  6993.66650390625,\n",
       "  8181.0,\n",
       "  8619.0,\n",
       "  8623.3330078125,\n",
       "  8363.0,\n",
       "  7975.66650390625,\n",
       "  5514.33349609375,\n",
       "  3235.666748046875,\n",
       "  1566.0,\n",
       "  1754.3333740234375,\n",
       "  2047.8333740234375]}"
      ]
     },
     "execution_count": 10,
     "metadata": {},
     "output_type": "execute_result"
    }
   ],
   "source": [
    "pms[0]"
   ]
  },
  {
   "cell_type": "markdown",
   "metadata": {},
   "source": [
    "# Retrieving the Phenological Metrics for Region (Random)\n",
    "<hr style=\"border:1px solid #0077b9;\">\n",
    "\n",
    "In order to retrieve the phenological metrics associated with a region via `random` methodology, with that the metrics are calculated using time series `NDVI`, for each of the given spatial location from `January 1st, 2022` to `December 31st, 2022` and plot size of 35 points, use the `get_phenometrics_region` function:"
   ]
  },
  {
   "cell_type": "code",
   "execution_count": 11,
   "metadata": {},
   "outputs": [],
   "source": [
    "pms=get_phenometrics_region(\n",
    "    url=wcpms_url,\n",
    "    cube=datacube,\n",
    "    geom=gdf_to_geojson(polygon[\"geometry\"]),\n",
    "    method=\"random\",\n",
    "\tplot_size=35\n",
    ")"
   ]
  },
  {
   "cell_type": "code",
   "execution_count": 12,
   "metadata": {},
   "outputs": [
    {
     "data": {
      "image/png": "[encoded data removed]",
      "text/plain": [
       "<Figure size 640x480 with 1 Axes>"
      ]
     },
     "metadata": {},
     "output_type": "display_data"
    }
   ],
   "source": [
    "import geopandas as gpd\n",
    "import matplotlib.pyplot as plt\n",
    "\n",
    "x, y = [],[]\n",
    "for p in pms:\n",
    "    x.append(p[\"point\"][0])\n",
    "    y.append(p[\"point\"][1])\n",
    "gpd.GeoSeries(polygon[\"geometry\"]).plot(color='red', alpha=0.25)\n",
    "plt.scatter(x,y) \n",
    "plt.show() "
   ]
  },
  {
   "cell_type": "code",
   "execution_count": 13,
   "metadata": {},
   "outputs": [
    {
     "data": {
      "text/plain": [
       "35"
      ]
     },
     "execution_count": 13,
     "metadata": {},
     "output_type": "execute_result"
    }
   ],
   "source": [
    "len(pms)"
   ]
  },
  {
   "cell_type": "code",
   "execution_count": 14,
   "metadata": {},
   "outputs": [
    {
     "data": {
      "text/plain": [
       "{'phenometrics': {'aos_v': 7632.16650390625,\n",
       "  'bse_v': 1829.5,\n",
       "  'eos_t': '2022-11-02T00:00:00',\n",
       "  'eos_v': 2708.0,\n",
       "  'lios_v': 64315.16796875,\n",
       "  'liot_v': 110706.7421875,\n",
       "  'los_v': 144.0,\n",
       "  'mos_v': 8662.0546875,\n",
       "  'pos_t': '2022-08-30T00:00:00',\n",
       "  'pos_v': 9189.5,\n",
       "  'rod_v': 101.2734375,\n",
       "  'roi_v': 75.92708587646484,\n",
       "  'sios_v': 48741.8359375,\n",
       "  'siot_v': 76445.40625,\n",
       "  'sos_t': '2022-06-11T00:00:00',\n",
       "  'sos_v': 3115.333251953125,\n",
       "  'vos_t': '2022-11-18T00:00:00',\n",
       "  'vos_v': 1557.3333740234375},\n",
       " 'point': [-53.89053494972664, -27.640229688037373],\n",
       " 'timeline': ['2022-01-01',\n",
       "  '2022-01-17',\n",
       "  '2022-02-02',\n",
       "  '2022-02-18',\n",
       "  '2022-03-06',\n",
       "  '2022-03-22',\n",
       "  '2022-04-07',\n",
       "  '2022-04-23',\n",
       "  '2022-05-09',\n",
       "  '2022-05-25',\n",
       "  '2022-06-10',\n",
       "  '2022-06-26',\n",
       "  '2022-07-12',\n",
       "  '2022-07-28',\n",
       "  '2022-08-13',\n",
       "  '2022-08-29',\n",
       "  '2022-09-14',\n",
       "  '2022-09-30',\n",
       "  '2022-10-16',\n",
       "  '2022-11-01',\n",
       "  '2022-11-17',\n",
       "  '2022-12-03',\n",
       "  '2022-12-19'],\n",
       " 'timeseries': [3544.5,\n",
       "  5036.0,\n",
       "  6149.0,\n",
       "  7232.33349609375,\n",
       "  6650.0,\n",
       "  5092.33349609375,\n",
       "  3432.333251953125,\n",
       "  2438.333251953125,\n",
       "  2211.0,\n",
       "  2101.666748046875,\n",
       "  3115.333251953125,\n",
       "  4143.33349609375,\n",
       "  6427.33349609375,\n",
       "  7768.33349609375,\n",
       "  9160.5,\n",
       "  9189.5,\n",
       "  9003.8330078125,\n",
       "  7660.66650390625,\n",
       "  5138.33349609375,\n",
       "  2708.0,\n",
       "  1557.3333740234375,\n",
       "  1712.6666259765625,\n",
       "  2012.6666259765625]}"
      ]
     },
     "execution_count": 14,
     "metadata": {},
     "output_type": "execute_result"
    }
   ],
   "source": [
    "pms[1]"
   ]
  },
  {
   "cell_type": "markdown",
   "metadata": {},
   "source": [
    "# References\n",
    "<hr style=\"border:1px solid #0077b9;\">"
   ]
  },
  {
   "cell_type": "markdown",
   "metadata": {},
   "source": []
  },
  {
   "cell_type": "markdown",
   "metadata": {
    "editable": true,
    "slideshow": {
     "slide_type": ""
    },
    "tags": []
   },
   "source": [
    "# See also the following Jupyter Notebooks\n",
    "<hr style=\"border:1px solid #0077b9;\">\n",
    "\n",
    "* [WTSS Examples](./wtss-examples.ipynb)"
   ]
  }
 ],
 "metadata": {
  "kernelspec": {
   "display_name": "Python 3",
   "language": "python",
   "name": "python3"
  },
  "language_info": {
   "codemirror_mode": {
    "name": "ipython",
    "version": 3
   },
   "file_extension": ".py",
   "mimetype": "text/x-python",
   "name": "python",
   "nbconvert_exporter": "python",
   "pygments_lexer": "ipython3",
   "version": "3.12.3"
  }
 },
 "nbformat": 4,
 "nbformat_minor": 4
}
