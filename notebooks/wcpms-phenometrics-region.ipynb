{
 "cells": [
  {
   "cell_type": "markdown",
   "metadata": {
    "editable": true,
    "slideshow": {
     "slide_type": ""
    },
    "tags": []
   },
   "source": [
    "# <span style=\"color:#336699\">Web Crop Phenology Metrics Service (WCPMS) Region</span>\n",
    "<hr style=\"border:2px solid #0077b9;\">\n",
    "\n",
    "<div style=\"text-align: left;\">\n",
    "    <a href=\"https://nbviewer.jupyter.org/github/brazil-data-cube/code-gallery/\"><img src=\"https://raw.githubusercontent.com/jupyter/design/master/logos/Badges/nbviewer_badge.svg\" align=\"center\"/></a>\n",
    "</div>\n",
    "\n",
    "<br/>\n",
    "\n",
    "<div style=\"text-align: center;font-size: 90%;\">\n",
    "    Gabriel Sansigolo<sup><a href=\"https://orcid.org/0000-0003-0789-5858\"><i class=\"fab fa-lg fa-orcid\" style=\"color: #a6ce39\"></i></a></sup>\n",
    "    <br/><br/>\n",
    "    Earth Observation and Geoinformatics Division, National Institute for Space Research (INPE)\n",
    "    <br/>\n",
    "    Avenida dos Astronautas, 1758, Jardim da Granja, São José dos Campos, SP 12227-010, Brazil\n",
    "    <br/><br/>\n",
    "    Contact: <a href=\"mailto:brazildatacube@inpe.br\">brazildatacube@inpe.br</a>\n",
    "    <br/><br/>\n",
    "    Last Update: Sept 14, 2024\n",
    "</div>\n",
    "\n",
    "<br/>\n",
    "\n",
    "<div style=\"text-align: justify;  margin-left: 25%; margin-right: 25%;\">\n",
    "<b>Abstract.</b> This Jupyter Notebook explains how to use the WCPMS service to extract phenology metrics on regions from <em>Earth Observation Data Cubes</em>.\n",
    "</div>\n",
    "\n",
    "<br/>\n",
    "<div style=\"text-align: justify;  margin-left: 25%; margin-right: 25%;font-size: 75%; border-style: solid; border-color: #0077b9; border-width: 1px; padding: 5px;\">\n",
    "    <b>This Jupyter Notebook is a supplement to the following paper:</b>\n",
    "    <div style=\"margin-left: 10px; margin-right: 10px\">\n",
    "    Sansigolo, G.; Queiroz, G. R.; Ferreira, K. R.; Adami, M.; Körting, T.<a href=\"http://www.google.com\" target=\"_blank\">A Web Service for Crop Sowing and Harvesting Detection from Earth Observation Data Cubes.\n",
    "    </div>\n",
    "</div>"
   ]
  },
  {
   "cell_type": "markdown",
   "metadata": {},
   "source": [
    "# Introduction\n",
    "<hr style=\"border:1px solid #0077b9;\">"
   ]
  },
  {
   "cell_type": "markdown",
   "metadata": {},
   "source": [
    "Called Web Crop Phenology Metrics Service (WCPMS) the software extracts phenological metrics from big EO image collections, modeled as multidimensional data cubes, produced by the BDC project of INPE. \n",
    "\n",
    "It allows analysts to calculate phenological metrics on cloud. The opposite of the on-premises established algorithms, so with no need to download big EO data sets on their personal computers. \n",
    "\n",
    "We created the wcpms.py library from scratch to facilitate phenology extraction operations. This library was developed to be interoperable with other Python libraries, thus enabling users to integrate established libraries into their own workflows for pre- or post-processing and analysis. The wcpms.py library has a group of functions, the main ones are:\n",
    "\n",
    "- ``get_collections``: returns in list format the unique identifier of each of the data cubes available in the BDC’s SpatioTemporal Asset Catalogs (STAC).\n",
    "\n",
    "- ``get_description``: returns in dictionary format the information on each of the phenology metrics, such as code, name, description and method. \t\n",
    "\n",
    "- ``get_phenometrics``: returns in dictionary form all the phenological metrics calculated for the given spatial location.\n",
    "\n",
    "- ``get_phenometrics_region``: returns in list format the phenological metrics calculated for each pixel centers within the boundaries of the given region using satellite images time series.\n",
    "\n",
    "\n",
    "To read more, access the documentation at https://wcpms.readthedocs.io/en/latest."
   ]
  },
  {
   "cell_type": "markdown",
   "metadata": {},
   "source": [
    "## Web Service\n",
    "<hr style=\"border:1px solid #0077b9;\">"
   ]
  },
  {
   "cell_type": "markdown",
   "metadata": {},
   "source": [
    "The architecture of the proposed web service is made up of two sides: (1) the server-side and (2) the client-side. It will allow analysts to calculate phenological metrics from data cubes with no need to download big EO datasets to their personal computers. \n",
    "\n",
    "The web service runs on the server-side, so everything related to it, such as the libraries for calculating phenological metrics, the access to the web service for extracting time series (WTSS), is on the cloud, so it doesn’t require any package installation. \n",
    "\n",
    "<div align=\"center\">\n",
    "    <figcaption><strong>Figure 1</strong> - Architecture of the web service for phenological metrics extraction </figcaption>\n",
    "    <img src=\"https://github.com/GSansigolo/wcpms.py/blob/master/docs/sphinx/img/wcpms_architecture.png?raw=true\" align=\"center\" width=\"768\"/>\n",
    "    <br>\n",
    "</div>"
   ]
  },
  {
   "cell_type": "markdown",
   "metadata": {},
   "source": [
    "# Python Client API\n",
    "<hr style=\"border:1px solid #0077b9;\">"
   ]
  },
  {
   "cell_type": "markdown",
   "metadata": {},
   "source": [
    "For running the examples in this Jupyter Notebook you will need to install the [WCPMS client for Python](https://github.com/brazil-data-cube/wcpms.py). To install it from PyPI using `pip`, use the following command:"
   ]
  },
  {
   "cell_type": "code",
   "execution_count": 1,
   "metadata": {
    "editable": true,
    "scrolled": true,
    "slideshow": {
     "slide_type": ""
    },
    "tags": []
   },
   "outputs": [],
   "source": [
    "!pip install wcpms"
   ]
  },
  {
   "cell_type": "markdown",
   "metadata": {},
   "source": [
    "In order to access the funcionalities of the client API, you should import the `wcpms` package and `os` package, as follows:"
   ]
  },
  {
   "cell_type": "code",
   "execution_count": 2,
   "metadata": {},
   "outputs": [],
   "source": [
    "import os\n",
    "from wcpms import *"
   ]
  },
  {
   "cell_type": "markdown",
   "metadata": {},
   "source": [
    "After that, you should add the `wcpms` service url:"
   ]
  },
  {
   "cell_type": "code",
   "execution_count": 3,
   "metadata": {},
   "outputs": [],
   "source": [
    "wcpms_url = 'https://data.inpe.br/bdc/wcpms' "
   ]
  },
  {
   "cell_type": "markdown",
   "metadata": {},
   "source": [
    "The above cell will create an string named `service` that will save the wcpms url for future use."
   ]
  },
  {
   "cell_type": "markdown",
   "metadata": {},
   "source": [
    "# Select Data Cube\n",
    "<hr style=\"border:1px solid #0077b9;\">\n",
    "\n",
    "Before creating a data cube query, it is important to select a data cubes from the BDC catalog. It is possible to retrive a list with avaliable data cubes with the `get_collections` function:"
   ]
  },
  {
   "cell_type": "code",
   "execution_count": 4,
   "metadata": {},
   "outputs": [
    {
     "data": {
      "text/plain": [
       "['CBERS4-MUX-2M-1',\n",
       " 'CBERS4-WFI-16D-2',\n",
       " 'CBERS-WFI-8D-1',\n",
       " 'LANDSAT-16D-1',\n",
       " 'mod11a2-6.1',\n",
       " 'mod13q1-6.1',\n",
       " 'myd11a2-6.1',\n",
       " 'myd13q1-6.1',\n",
       " 'S2-16D-2']"
      ]
     },
     "execution_count": 4,
     "metadata": {},
     "output_type": "execute_result"
    }
   ],
   "source": [
    "colections=get_collections(\n",
    "    url = wcpms_url\n",
    ")\n",
    "\n",
    "colections"
   ]
  },
  {
   "cell_type": "markdown",
   "metadata": {},
   "source": [
    "# Creating a Data Cube Query\n",
    "<hr style=\"border:1px solid #0077b9;\">\n",
    "\n",
    "To make it easier to use, there is a function to create a data cube query called `cube_query`:"
   ]
  },
  {
   "cell_type": "code",
   "execution_count": 5,
   "metadata": {},
   "outputs": [],
   "source": [
    "datacube=cube_query(\n",
    "    collection=\"S2-16D-2\",\n",
    "    start_date=\"2022-01-01\",\n",
    "    end_date=\"2022-12-31\",\n",
    "    freq=\"16D\",\n",
    "    band=\"NDVI\"\n",
    ")"
   ]
  },
  {
   "cell_type": "markdown",
   "metadata": {},
   "source": [
    "# Opening a shapefile to select a region\n",
    "<hr style=\"border:1px solid #0077b9;\">\n",
    "\n",
    "To easily open a shapefile you can use the geopandas (gpd) contained in the wcpms library, there is a function called `gpd_shapefile`:"
   ]
  },
  {
   "cell_type": "code",
   "execution_count": 6,
   "metadata": {},
   "outputs": [],
   "source": [
    "path_dir = os.path.dirname(\"\")"
   ]
  },
  {
   "cell_type": "code",
   "execution_count": 7,
   "metadata": {},
   "outputs": [
    {
     "data": {
      "text/html": [
       "<div>\n",
       "<style scoped>\n",
       "    .dataframe tbody tr th:only-of-type {\n",
       "        vertical-align: middle;\n",
       "    }\n",
       "\n",
       "    .dataframe tbody tr th {\n",
       "        vertical-align: top;\n",
       "    }\n",
       "\n",
       "    .dataframe thead th {\n",
       "        text-align: right;\n",
       "    }\n",
       "</style>\n",
       "<table border=\"1\" class=\"dataframe\">\n",
       "  <thead>\n",
       "    <tr style=\"text-align: right;\">\n",
       "      <th></th>\n",
       "      <th>id</th>\n",
       "      <th>Oct_2019</th>\n",
       "      <th>Nov_2019</th>\n",
       "      <th>Dec_2019</th>\n",
       "      <th>Jan_2020</th>\n",
       "      <th>Feb_2020</th>\n",
       "      <th>Mar_2020</th>\n",
       "      <th>Apr_2020</th>\n",
       "      <th>May_2020</th>\n",
       "      <th>Jun_2020</th>\n",
       "      <th>Jul_2020</th>\n",
       "      <th>Aug_2020</th>\n",
       "      <th>Sep_2020</th>\n",
       "      <th>Note</th>\n",
       "      <th>geometry</th>\n",
       "    </tr>\n",
       "  </thead>\n",
       "  <tbody>\n",
       "    <tr>\n",
       "      <th>93</th>\n",
       "      <td>458</td>\n",
       "      <td>Uncultivated soil</td>\n",
       "      <td>Uncultivated soil</td>\n",
       "      <td>Soybean</td>\n",
       "      <td>Soybean</td>\n",
       "      <td>Soybean</td>\n",
       "      <td>Uncultivated soil</td>\n",
       "      <td>Uncultivated soil</td>\n",
       "      <td>Corn</td>\n",
       "      <td>Corn</td>\n",
       "      <td>Corn</td>\n",
       "      <td>Corn</td>\n",
       "      <td>Uncultivated soil</td>\n",
       "      <td>None</td>\n",
       "      <td>POLYGON ((-45.8354 -12.24886, -45.83535 -12.24...</td>\n",
       "    </tr>\n",
       "  </tbody>\n",
       "</table>\n",
       "</div>"
      ],
      "text/plain": [
       "     id           Oct_2019           Nov_2019 Dec_2019 Jan_2020 Feb_2020  \\\n",
       "93  458  Uncultivated soil  Uncultivated soil  Soybean  Soybean  Soybean   \n",
       "\n",
       "             Mar_2020           Apr_2020 May_2020 Jun_2020 Jul_2020 Aug_2020  \\\n",
       "93  Uncultivated soil  Uncultivated soil     Corn     Corn     Corn     Corn   \n",
       "\n",
       "             Sep_2020  Note                                           geometry  \n",
       "93  Uncultivated soil  None  POLYGON ((-45.8354 -12.24886, -45.83535 -12.24...  "
      ]
     },
     "execution_count": 7,
     "metadata": {},
     "output_type": "execute_result"
    }
   ],
   "source": [
    "polygon = gpd_read_file(os.path.join(path_dir, \"LEM_dataset_small/LEM_dataset_small.shp\"))\n",
    "\n",
    "polygon = polygon[polygon['id'] == '458']   \n",
    "polygon"
   ]
  },
  {
   "cell_type": "markdown",
   "metadata": {},
   "source": [
    "In order to retrieve the phenological metrics associated with a region, it's necessary to use the `get_phenometrics_region` function."
   ]
  },
  {
   "cell_type": "markdown",
   "metadata": {},
   "source": [
    "# Retrieving the Phenological Metrics for Region \n",
    "<hr style=\"border:1px solid #0077b9;\">\n",
    "\n",
    "In order to retrieve the phenological metrics associated with a region we use `get_timeseries_region` and `get_phenometrics_region` functions. The metrics are calculated using time series `NDVI`, for each pixel centers within the boundaries of the given region from `January 1st, 2022` to `December 31st, 2022`."
   ]
  },
  {
   "cell_type": "code",
   "execution_count": 8,
   "metadata": {},
   "outputs": [],
   "source": [
    "timeseries=get_timeseries_region(\n",
    "    url=wcpms_url,\n",
    "    cube=datacube,\n",
    "    geom=gdf_to_geojson(polygon[\"geometry\"])\n",
    ")"
   ]
  },
  {
   "cell_type": "code",
   "execution_count": 9,
   "metadata": {},
   "outputs": [
    {
     "data": {
      "text/plain": [
       "2967"
      ]
     },
     "execution_count": 9,
     "metadata": {},
     "output_type": "execute_result"
    }
   ],
   "source": [
    "len(timeseries)"
   ]
  },
  {
   "cell_type": "code",
   "execution_count": 10,
   "metadata": {},
   "outputs": [],
   "source": [
    "phenometrics=get_phenometrics_region(\n",
    "    url=wcpms_url,\n",
    "    cube=datacube,\n",
    "    timeseries=timeseries[:500] #limit\n",
    ")"
   ]
  },
  {
   "cell_type": "code",
   "execution_count": 11,
   "metadata": {},
   "outputs": [
    {
     "data": {
      "image/png": "[encoded data removed]",
      "text/plain": [
       "<Figure size 640x480 with 1 Axes>"
      ]
     },
     "metadata": {},
     "output_type": "display_data"
    }
   ],
   "source": [
    "plot_points_region(polygon, phenometrics)"
   ]
  },
  {
   "cell_type": "code",
   "execution_count": 12,
   "metadata": {},
   "outputs": [
    {
     "name": "stdout",
     "output_type": "stream",
     "text": [
      "Processing from 0 to 500\n",
      "Processing from 500 to 1000\n",
      "Processing from 1000 to 1500\n",
      "Processing from 1500 to 2000\n",
      "Processing from 2000 to 2500\n",
      "Processing from 2500 to 2967\n"
     ]
    }
   ],
   "source": [
    "phenometrics = []\n",
    "for i in range(0, len(timeseries), 500):\n",
    "    end = min(i + 500, len(timeseries))  \n",
    "    phenometrics = phenometrics + get_phenometrics_region(\n",
    "        url=wcpms_url,\n",
    "        cube=datacube,\n",
    "        timeseries=timeseries[i:end]\n",
    "    )\n",
    "    print(f\"Processing from {i} to {end}\")"
   ]
  },
  {
   "cell_type": "code",
   "execution_count": 13,
   "metadata": {},
   "outputs": [
    {
     "data": {
      "image/png": "[encoded data removed]",
      "text/plain": [
       "<Figure size 640x480 with 1 Axes>"
      ]
     },
     "metadata": {},
     "output_type": "display_data"
    }
   ],
   "source": [
    "plot_points_region(polygon, phenometrics)"
   ]
  },
  {
   "cell_type": "code",
   "execution_count": 14,
   "metadata": {},
   "outputs": [
    {
     "data": {
      "text/plain": [
       "2967"
      ]
     },
     "execution_count": 14,
     "metadata": {},
     "output_type": "execute_result"
    }
   ],
   "source": [
    "len(phenometrics)"
   ]
  },
  {
   "cell_type": "code",
   "execution_count": 15,
   "metadata": {},
   "outputs": [
    {
     "data": {
      "text/plain": [
       "{'phenometrics': {'aos_v': 0.9282000064849854,\n",
       "  'bse_v': 0.47780001163482666,\n",
       "  'eos_t': '2022-03-07T00:00:00',\n",
       "  'eos_v': 0.19789999723434448,\n",
       "  'lios_v': 3.0995497703552246,\n",
       "  'liot_v': 11.779150009155273,\n",
       "  'los_v': 65.0,\n",
       "  'mos_v': 0.9226049780845642,\n",
       "  'pos_t': '2022-01-02T00:00:00',\n",
       "  'pos_v': 0.9419000148773193,\n",
       "  'rod_v': 0.011625000275671482,\n",
       "  'roi_v': -9999,\n",
       "  'sios_v': 3.0378997325897217,\n",
       "  'siot_v': 11.477749824523926,\n",
       "  'sos_t': '2022-01-01T00:00:00',\n",
       "  'sos_v': -9999,\n",
       "  'vos_t': '2022-11-18T00:00:00',\n",
       "  'vos_v': 0.013700000010430813},\n",
       " 'point': [-45.83783423711872, -12.252555099336767],\n",
       " 'timeline': ['2022-01-01',\n",
       "  '2022-01-17',\n",
       "  '2022-02-02',\n",
       "  '2022-02-18',\n",
       "  '2022-03-06',\n",
       "  '2022-03-22',\n",
       "  '2022-04-07',\n",
       "  '2022-04-23',\n",
       "  '2022-05-09',\n",
       "  '2022-05-25',\n",
       "  '2022-06-10',\n",
       "  '2022-06-26',\n",
       "  '2022-07-12',\n",
       "  '2022-07-28',\n",
       "  '2022-08-13',\n",
       "  '2022-08-29',\n",
       "  '2022-09-14',\n",
       "  '2022-09-30',\n",
       "  '2022-10-16',\n",
       "  '2022-11-01',\n",
       "  '2022-11-17',\n",
       "  '2022-12-03',\n",
       "  '2022-12-19'],\n",
       " 'timeseries': [0.9419,\n",
       "  0.8943,\n",
       "  0.9291,\n",
       "  0.6073,\n",
       "  0.1979,\n",
       "  0.1226,\n",
       "  0.2067,\n",
       "  0.7201,\n",
       "  0.8762,\n",
       "  0.9269,\n",
       "  0.9323,\n",
       "  0.9118,\n",
       "  0.9083,\n",
       "  0.8769,\n",
       "  0.3148,\n",
       "  0.2938,\n",
       "  0.1677,\n",
       "  0.1712,\n",
       "  0.1807,\n",
       "  0.1934,\n",
       "  0.0137,\n",
       "  0.4448,\n",
       "  0.8354]}"
      ]
     },
     "execution_count": 15,
     "metadata": {},
     "output_type": "execute_result"
    }
   ],
   "source": [
    "phenometrics[2006]"
   ]
  },
  {
   "cell_type": "code",
   "execution_count": 16,
   "metadata": {},
   "outputs": [
    {
     "data": {
      "application/vnd.plotly.v1+json": {
       "config": {
        "plotlyServerURL": "https://plot.ly"
       },
       "data": [
        {
         "fill": "toself",
         "fillcolor": "rgba(153, 247, 254, 0.4)",
         "line": {
          "color": "rgba(153, 247, 254, 0.4)"
         },
         "mode": "lines",
         "name": "LIOS",
         "showlegend": false,
         "type": "scatter",
         "x": [
          "2022-03-23",
          "2022-03-23",
          "2022-06-11",
          "2022-09-15",
          "2022-09-15"
         ],
         "y": [
          0,
          0.263700008392334,
          0.9200999736785889,
          0.19949999451637268,
          0
         ]
        },
        {
         "line": {
          "color": "#17BECF"
         },
         "name": "NDVI",
         "type": "scatter",
         "x": [
          "2022-01-01",
          "2022-01-17",
          "2022-02-02",
          "2022-02-18",
          "2022-03-06",
          "2022-03-22",
          "2022-04-07",
          "2022-04-23",
          "2022-05-09",
          "2022-05-25",
          "2022-06-10",
          "2022-06-26",
          "2022-07-12",
          "2022-07-28",
          "2022-08-13",
          "2022-08-29",
          "2022-09-14",
          "2022-09-30",
          "2022-10-16",
          "2022-11-01",
          "2022-11-17"
         ],
         "y": [
          0.8832,
          0.8317,
          0.8779,
          0.6969,
          0.2576,
          0.2637,
          0.2912,
          0.7096,
          0.844,
          0.9149,
          0.9201,
          0.8919,
          0.8857,
          0.8446,
          0.3539,
          0.3309,
          0.1995,
          0.1973,
          0.2061,
          0.2281,
          0.0358
         ]
        },
        {
         "line": {
          "color": "#ff0000"
         },
         "name": "Smooth NDVI",
         "type": "scatter",
         "x": [
          "2022-01-01",
          "2022-01-17",
          "2022-02-02",
          "2022-02-18",
          "2022-03-06",
          "2022-03-22",
          "2022-04-07",
          "2022-04-23",
          "2022-05-09",
          "2022-05-25",
          "2022-06-10",
          "2022-06-26",
          "2022-07-12",
          "2022-07-28",
          "2022-08-13",
          "2022-08-29",
          "2022-09-14",
          "2022-09-30",
          "2022-10-16",
          "2022-11-01",
          "2022-11-17"
         ],
         "y": {
          "bdata": "8hl2Bci96z+KZouREqjrPxLK6G1Zq+k/lrIMcayL4z9uD1UL//zZP1ZVVVVVVdE/YuXQItv52j/CYXyriK3jP/A1F5KmVOo/+35qvHST7D9UmU9DQRbtP7R4xPuExuw/GG17qFr46z+OckNmQTvmP44G8BZIUOA/bjFSAnXd0j+8bjeubAzPPxaxdZZGuck/jGzn+6nxyj8OdNpApw3EP/8ez0GqO9E/QoUQfWRg3j+HpCkVZx/sPw==",
          "dtype": "f8"
         }
        },
        {
         "line": {
          "color": "#000000",
          "dash": "dashdot"
         },
         "mode": "lines",
         "name": "AOS",
         "showlegend": false,
         "type": "scatter",
         "x": [
          "2022-06-11",
          "2022-06-11"
         ],
         "y": [
          0.9200999736785889,
          0
         ]
        },
        {
         "marker": {
          "color": "#008c00",
          "line": {
           "color": "#000000",
           "width": 2
          },
          "size": 12
         },
         "mode": "markers",
         "name": "SOS",
         "type": "scatter",
         "x": [
          "2022-03-23"
         ],
         "y": [
          0.263700008392334
         ]
        },
        {
         "marker": {
          "color": "#0009e3",
          "line": {
           "color": "#000000",
           "width": 2
          },
          "size": 12
         },
         "mode": "markers",
         "name": "POS",
         "type": "scatter",
         "x": [
          "2022-06-11"
         ],
         "y": [
          0.9200999736785889
         ]
        },
        {
         "marker": {
          "color": "#e35400",
          "line": {
           "color": "#000000",
           "width": 2
          },
          "size": 12
         },
         "mode": "markers",
         "name": "VOS",
         "type": "scatter",
         "x": [
          "2022-11-18"
         ],
         "y": [
          0.03579999879002571
         ]
        },
        {
         "marker": {
          "color": "#8a6100",
          "line": {
           "color": "#000000",
           "width": 2
          },
          "size": 12
         },
         "mode": "markers",
         "name": "EOS",
         "type": "scatter",
         "x": [
          "2022-09-15"
         ],
         "y": [
          0.19949999451637268
         ]
        }
       ],
       "layout": {
        "annotations": [
         {
          "showarrow": false,
          "text": "Uncertainty",
          "x": "2022-03-07T00:00:00",
          "xanchor": "left",
          "xref": "x",
          "y": 1,
          "yanchor": "top",
          "yref": "y domain"
         },
         {
          "showarrow": false,
          "text": "Uncertainty",
          "x": "2022-08-30T00:00:00",
          "xanchor": "left",
          "xref": "x",
          "y": 1,
          "yanchor": "top",
          "yref": "y domain"
         }
        ],
        "shapes": [
         {
          "fillcolor": "green",
          "line": {
           "width": 0
          },
          "opacity": 0.25,
          "type": "rect",
          "x0": "2022-03-07T00:00:00",
          "x1": "2022-04-08T00:00:00",
          "xref": "x",
          "y0": 0,
          "y1": 1,
          "yref": "y domain"
         },
         {
          "fillcolor": "green",
          "line": {
           "width": 0
          },
          "opacity": 0.25,
          "type": "rect",
          "x0": "2022-08-30T00:00:00",
          "x1": "2022-10-01T00:00:00",
          "xref": "x",
          "y0": 0,
          "y1": 1,
          "yref": "y domain"
         }
        ],
        "template": {
         "data": {
          "bar": [
           {
            "error_x": {
             "color": "#2a3f5f"
            },
            "error_y": {
             "color": "#2a3f5f"
            },
            "marker": {
             "line": {
              "color": "#E5ECF6",
              "width": 0.5
             },
             "pattern": {
              "fillmode": "overlay",
              "size": 10,
              "solidity": 0.2
             }
            },
            "type": "bar"
           }
          ],
          "barpolar": [
           {
            "marker": {
             "line": {
              "color": "#E5ECF6",
              "width": 0.5
             },
             "pattern": {
              "fillmode": "overlay",
              "size": 10,
              "solidity": 0.2
             }
            },
            "type": "barpolar"
           }
          ],
          "carpet": [
           {
            "aaxis": {
             "endlinecolor": "#2a3f5f",
             "gridcolor": "white",
             "linecolor": "white",
             "minorgridcolor": "white",
             "startlinecolor": "#2a3f5f"
            },
            "baxis": {
             "endlinecolor": "#2a3f5f",
             "gridcolor": "white",
             "linecolor": "white",
             "minorgridcolor": "white",
             "startlinecolor": "#2a3f5f"
            },
            "type": "carpet"
           }
          ],
          "choropleth": [
           {
            "colorbar": {
             "outlinewidth": 0,
             "ticks": ""
            },
            "type": "choropleth"
           }
          ],
          "contour": [
           {
            "colorbar": {
             "outlinewidth": 0,
             "ticks": ""
            },
            "colorscale": [
             [
              0,
              "#0d0887"
             ],
             [
              0.1111111111111111,
              "#46039f"
             ],
             [
              0.2222222222222222,
              "#7201a8"
             ],
             [
              0.3333333333333333,
              "#9c179e"
             ],
             [
              0.4444444444444444,
              "#bd3786"
             ],
             [
              0.5555555555555556,
              "#d8576b"
             ],
             [
              0.6666666666666666,
              "#ed7953"
             ],
             [
              0.7777777777777778,
              "#fb9f3a"
             ],
             [
              0.8888888888888888,
              "#fdca26"
             ],
             [
              1,
              "#f0f921"
             ]
            ],
            "type": "contour"
           }
          ],
          "contourcarpet": [
           {
            "colorbar": {
             "outlinewidth": 0,
             "ticks": ""
            },
            "type": "contourcarpet"
           }
          ],
          "heatmap": [
           {
            "colorbar": {
             "outlinewidth": 0,
             "ticks": ""
            },
            "colorscale": [
             [
              0,
              "#0d0887"
             ],
             [
              0.1111111111111111,
              "#46039f"
             ],
             [
              0.2222222222222222,
              "#7201a8"
             ],
             [
              0.3333333333333333,
              "#9c179e"
             ],
             [
              0.4444444444444444,
              "#bd3786"
             ],
             [
              0.5555555555555556,
              "#d8576b"
             ],
             [
              0.6666666666666666,
              "#ed7953"
             ],
             [
              0.7777777777777778,
              "#fb9f3a"
             ],
             [
              0.8888888888888888,
              "#fdca26"
             ],
             [
              1,
              "#f0f921"
             ]
            ],
            "type": "heatmap"
           }
          ],
          "histogram": [
           {
            "marker": {
             "pattern": {
              "fillmode": "overlay",
              "size": 10,
              "solidity": 0.2
             }
            },
            "type": "histogram"
           }
          ],
          "histogram2d": [
           {
            "colorbar": {
             "outlinewidth": 0,
             "ticks": ""
            },
            "colorscale": [
             [
              0,
              "#0d0887"
             ],
             [
              0.1111111111111111,
              "#46039f"
             ],
             [
              0.2222222222222222,
              "#7201a8"
             ],
             [
              0.3333333333333333,
              "#9c179e"
             ],
             [
              0.4444444444444444,
              "#bd3786"
             ],
             [
              0.5555555555555556,
              "#d8576b"
             ],
             [
              0.6666666666666666,
              "#ed7953"
             ],
             [
              0.7777777777777778,
              "#fb9f3a"
             ],
             [
              0.8888888888888888,
              "#fdca26"
             ],
             [
              1,
              "#f0f921"
             ]
            ],
            "type": "histogram2d"
           }
          ],
          "histogram2dcontour": [
           {
            "colorbar": {
             "outlinewidth": 0,
             "ticks": ""
            },
            "colorscale": [
             [
              0,
              "#0d0887"
             ],
             [
              0.1111111111111111,
              "#46039f"
             ],
             [
              0.2222222222222222,
              "#7201a8"
             ],
             [
              0.3333333333333333,
              "#9c179e"
             ],
             [
              0.4444444444444444,
              "#bd3786"
             ],
             [
              0.5555555555555556,
              "#d8576b"
             ],
             [
              0.6666666666666666,
              "#ed7953"
             ],
             [
              0.7777777777777778,
              "#fb9f3a"
             ],
             [
              0.8888888888888888,
              "#fdca26"
             ],
             [
              1,
              "#f0f921"
             ]
            ],
            "type": "histogram2dcontour"
           }
          ],
          "mesh3d": [
           {
            "colorbar": {
             "outlinewidth": 0,
             "ticks": ""
            },
            "type": "mesh3d"
           }
          ],
          "parcoords": [
           {
            "line": {
             "colorbar": {
              "outlinewidth": 0,
              "ticks": ""
             }
            },
            "type": "parcoords"
           }
          ],
          "pie": [
           {
            "automargin": true,
            "type": "pie"
           }
          ],
          "scatter": [
           {
            "fillpattern": {
             "fillmode": "overlay",
             "size": 10,
             "solidity": 0.2
            },
            "type": "scatter"
           }
          ],
          "scatter3d": [
           {
            "line": {
             "colorbar": {
              "outlinewidth": 0,
              "ticks": ""
             }
            },
            "marker": {
             "colorbar": {
              "outlinewidth": 0,
              "ticks": ""
             }
            },
            "type": "scatter3d"
           }
          ],
          "scattercarpet": [
           {
            "marker": {
             "colorbar": {
              "outlinewidth": 0,
              "ticks": ""
             }
            },
            "type": "scattercarpet"
           }
          ],
          "scattergeo": [
           {
            "marker": {
             "colorbar": {
              "outlinewidth": 0,
              "ticks": ""
             }
            },
            "type": "scattergeo"
           }
          ],
          "scattergl": [
           {
            "marker": {
             "colorbar": {
              "outlinewidth": 0,
              "ticks": ""
             }
            },
            "type": "scattergl"
           }
          ],
          "scattermap": [
           {
            "marker": {
             "colorbar": {
              "outlinewidth": 0,
              "ticks": ""
             }
            },
            "type": "scattermap"
           }
          ],
          "scattermapbox": [
           {
            "marker": {
             "colorbar": {
              "outlinewidth": 0,
              "ticks": ""
             }
            },
            "type": "scattermapbox"
           }
          ],
          "scatterpolar": [
           {
            "marker": {
             "colorbar": {
              "outlinewidth": 0,
              "ticks": ""
             }
            },
            "type": "scatterpolar"
           }
          ],
          "scatterpolargl": [
           {
            "marker": {
             "colorbar": {
              "outlinewidth": 0,
              "ticks": ""
             }
            },
            "type": "scatterpolargl"
           }
          ],
          "scatterternary": [
           {
            "marker": {
             "colorbar": {
              "outlinewidth": 0,
              "ticks": ""
             }
            },
            "type": "scatterternary"
           }
          ],
          "surface": [
           {
            "colorbar": {
             "outlinewidth": 0,
             "ticks": ""
            },
            "colorscale": [
             [
              0,
              "#0d0887"
             ],
             [
              0.1111111111111111,
              "#46039f"
             ],
             [
              0.2222222222222222,
              "#7201a8"
             ],
             [
              0.3333333333333333,
              "#9c179e"
             ],
             [
              0.4444444444444444,
              "#bd3786"
             ],
             [
              0.5555555555555556,
              "#d8576b"
             ],
             [
              0.6666666666666666,
              "#ed7953"
             ],
             [
              0.7777777777777778,
              "#fb9f3a"
             ],
             [
              0.8888888888888888,
              "#fdca26"
             ],
             [
              1,
              "#f0f921"
             ]
            ],
            "type": "surface"
           }
          ],
          "table": [
           {
            "cells": {
             "fill": {
              "color": "#EBF0F8"
             },
             "line": {
              "color": "white"
             }
            },
            "header": {
             "fill": {
              "color": "#C8D4E3"
             },
             "line": {
              "color": "white"
             }
            },
            "type": "table"
           }
          ]
         },
         "layout": {
          "annotationdefaults": {
           "arrowcolor": "#2a3f5f",
           "arrowhead": 0,
           "arrowwidth": 1
          },
          "autotypenumbers": "strict",
          "coloraxis": {
           "colorbar": {
            "outlinewidth": 0,
            "ticks": ""
           }
          },
          "colorscale": {
           "diverging": [
            [
             0,
             "#8e0152"
            ],
            [
             0.1,
             "#c51b7d"
            ],
            [
             0.2,
             "#de77ae"
            ],
            [
             0.3,
             "#f1b6da"
            ],
            [
             0.4,
             "#fde0ef"
            ],
            [
             0.5,
             "#f7f7f7"
            ],
            [
             0.6,
             "#e6f5d0"
            ],
            [
             0.7,
             "#b8e186"
            ],
            [
             0.8,
             "#7fbc41"
            ],
            [
             0.9,
             "#4d9221"
            ],
            [
             1,
             "#276419"
            ]
           ],
           "sequential": [
            [
             0,
             "#0d0887"
            ],
            [
             0.1111111111111111,
             "#46039f"
            ],
            [
             0.2222222222222222,
             "#7201a8"
            ],
            [
             0.3333333333333333,
             "#9c179e"
            ],
            [
             0.4444444444444444,
             "#bd3786"
            ],
            [
             0.5555555555555556,
             "#d8576b"
            ],
            [
             0.6666666666666666,
             "#ed7953"
            ],
            [
             0.7777777777777778,
             "#fb9f3a"
            ],
            [
             0.8888888888888888,
             "#fdca26"
            ],
            [
             1,
             "#f0f921"
            ]
           ],
           "sequentialminus": [
            [
             0,
             "#0d0887"
            ],
            [
             0.1111111111111111,
             "#46039f"
            ],
            [
             0.2222222222222222,
             "#7201a8"
            ],
            [
             0.3333333333333333,
             "#9c179e"
            ],
            [
             0.4444444444444444,
             "#bd3786"
            ],
            [
             0.5555555555555556,
             "#d8576b"
            ],
            [
             0.6666666666666666,
             "#ed7953"
            ],
            [
             0.7777777777777778,
             "#fb9f3a"
            ],
            [
             0.8888888888888888,
             "#fdca26"
            ],
            [
             1,
             "#f0f921"
            ]
           ]
          },
          "colorway": [
           "#636efa",
           "#EF553B",
           "#00cc96",
           "#ab63fa",
           "#FFA15A",
           "#19d3f3",
           "#FF6692",
           "#B6E880",
           "#FF97FF",
           "#FECB52"
          ],
          "font": {
           "color": "#2a3f5f"
          },
          "geo": {
           "bgcolor": "white",
           "lakecolor": "white",
           "landcolor": "#E5ECF6",
           "showlakes": true,
           "showland": true,
           "subunitcolor": "white"
          },
          "hoverlabel": {
           "align": "left"
          },
          "hovermode": "closest",
          "mapbox": {
           "style": "light"
          },
          "paper_bgcolor": "white",
          "plot_bgcolor": "#E5ECF6",
          "polar": {
           "angularaxis": {
            "gridcolor": "white",
            "linecolor": "white",
            "ticks": ""
           },
           "bgcolor": "#E5ECF6",
           "radialaxis": {
            "gridcolor": "white",
            "linecolor": "white",
            "ticks": ""
           }
          },
          "scene": {
           "xaxis": {
            "backgroundcolor": "#E5ECF6",
            "gridcolor": "white",
            "gridwidth": 2,
            "linecolor": "white",
            "showbackground": true,
            "ticks": "",
            "zerolinecolor": "white"
           },
           "yaxis": {
            "backgroundcolor": "#E5ECF6",
            "gridcolor": "white",
            "gridwidth": 2,
            "linecolor": "white",
            "showbackground": true,
            "ticks": "",
            "zerolinecolor": "white"
           },
           "zaxis": {
            "backgroundcolor": "#E5ECF6",
            "gridcolor": "white",
            "gridwidth": 2,
            "linecolor": "white",
            "showbackground": true,
            "ticks": "",
            "zerolinecolor": "white"
           }
          },
          "shapedefaults": {
           "line": {
            "color": "#2a3f5f"
           }
          },
          "ternary": {
           "aaxis": {
            "gridcolor": "white",
            "linecolor": "white",
            "ticks": ""
           },
           "baxis": {
            "gridcolor": "white",
            "linecolor": "white",
            "ticks": ""
           },
           "bgcolor": "#E5ECF6",
           "caxis": {
            "gridcolor": "white",
            "linecolor": "white",
            "ticks": ""
           }
          },
          "title": {
           "x": 0.05
          },
          "xaxis": {
           "automargin": true,
           "gridcolor": "white",
           "linecolor": "white",
           "ticks": "",
           "title": {
            "standoff": 15
           },
           "zerolinecolor": "white",
           "zerolinewidth": 2
          },
          "yaxis": {
           "automargin": true,
           "gridcolor": "white",
           "linecolor": "white",
           "ticks": "",
           "title": {
            "standoff": 15
           },
           "zerolinecolor": "white",
           "zerolinewidth": 2
          }
         }
        }
       }
      }
     },
     "metadata": {},
     "output_type": "display_data"
    }
   ],
   "source": [
    "plot_advanced_phenometrics(cube=datacube, ds_phenos=phenometrics[2600])"
   ]
  },
  {
   "cell_type": "code",
   "execution_count": 17,
   "metadata": {},
   "outputs": [
    {
     "data": {
      "application/vnd.plotly.v1+json": {
       "config": {
        "plotlyServerURL": "https://plot.ly"
       },
       "data": [
        {
         "fill": "toself",
         "fillcolor": "rgba(153, 247, 254, 0.4)",
         "line": {
          "color": "rgba(153, 247, 254, 0.4)"
         },
         "mode": "lines",
         "name": "LIOS",
         "showlegend": false,
         "type": "scatter",
         "x": [
          "2022-03-23",
          "2022-03-23",
          "2022-06-11",
          "2022-11-02",
          "2022-11-02"
         ],
         "y": [
          0,
          0.24740000069141388,
          0.9294000267982483,
          0.19589999318122864,
          0
         ]
        },
        {
         "line": {
          "color": "#17BECF"
         },
         "name": "NDVI",
         "type": "scatter",
         "x": [
          "2022-01-01",
          "2022-01-17",
          "2022-02-02",
          "2022-02-18",
          "2022-03-06",
          "2022-03-22",
          "2022-04-07",
          "2022-04-23",
          "2022-05-09",
          "2022-05-25",
          "2022-06-10",
          "2022-06-26",
          "2022-07-12",
          "2022-07-28",
          "2022-08-13",
          "2022-08-29",
          "2022-09-14",
          "2022-09-30",
          "2022-10-16",
          "2022-11-01",
          "2022-11-17"
         ],
         "y": [
          0.8897,
          0.8433,
          0.8941,
          0.6562,
          0.2461,
          0.2474,
          0.2681,
          0.7026,
          0.8517,
          0.9197,
          0.9294,
          0.9124,
          0.9023,
          0.866,
          0.3465,
          0.3176,
          0.1814,
          0.1728,
          0.1899,
          0.1959,
          0.0396
         ]
        },
        {
         "line": {
          "color": "#ff0000"
         },
         "name": "Smooth NDVI",
         "type": "scatter",
         "x": [
          "2022-01-01",
          "2022-01-17",
          "2022-02-02",
          "2022-02-18",
          "2022-03-06",
          "2022-03-22",
          "2022-04-07",
          "2022-04-23",
          "2022-05-09",
          "2022-05-25",
          "2022-06-10",
          "2022-06-26",
          "2022-07-12",
          "2022-07-28",
          "2022-08-13",
          "2022-08-29",
          "2022-09-14",
          "2022-09-30",
          "2022-10-16",
          "2022-11-01",
          "2022-11-17"
         ],
         "y": {
          "bdata": "vsqhRbbz6z8wbqMBvAXsPxjc/KwfiOk/mwgbnl4p4z/F1lka5YbYP/guuPlZP9A/ginwO3P82T98ylfvXXDjP8vobVmrY+o/fmRgCvzO7D/c+X5qvHTtP6PWNO84Re0/UiFEHxmY7D+k3JBZ0I7mP0gr0WwxUuA/pLdlrY4J0j/JUZPz2KnMP6l89d4FN8c/FPJBz2bVxz+EUUmdgCbCP10jb6YvcdE/6pWyDHGs3z8Yt9EA3gLtPw==",
          "dtype": "f8"
         }
        },
        {
         "line": {
          "color": "#000000",
          "dash": "dashdot"
         },
         "mode": "lines",
         "name": "AOS",
         "showlegend": false,
         "type": "scatter",
         "x": [
          "2022-06-11",
          "2022-06-11"
         ],
         "y": [
          0.9294000267982483,
          0
         ]
        },
        {
         "marker": {
          "color": "#008c00",
          "line": {
           "color": "#000000",
           "width": 2
          },
          "size": 12
         },
         "mode": "markers",
         "name": "SOS",
         "type": "scatter",
         "x": [
          "2022-03-23"
         ],
         "y": [
          0.24740000069141388
         ]
        },
        {
         "marker": {
          "color": "#0009e3",
          "line": {
           "color": "#000000",
           "width": 2
          },
          "size": 12
         },
         "mode": "markers",
         "name": "POS",
         "type": "scatter",
         "x": [
          "2022-06-11"
         ],
         "y": [
          0.9294000267982483
         ]
        },
        {
         "marker": {
          "color": "#e35400",
          "line": {
           "color": "#000000",
           "width": 2
          },
          "size": 12
         },
         "mode": "markers",
         "name": "VOS",
         "type": "scatter",
         "x": [
          "2022-11-18"
         ],
         "y": [
          0.03959999978542328
         ]
        },
        {
         "marker": {
          "color": "#8a6100",
          "line": {
           "color": "#000000",
           "width": 2
          },
          "size": 12
         },
         "mode": "markers",
         "name": "EOS",
         "type": "scatter",
         "x": [
          "2022-11-02"
         ],
         "y": [
          0.19589999318122864
         ]
        }
       ],
       "layout": {
        "annotations": [
         {
          "showarrow": false,
          "text": "Uncertainty",
          "x": "2022-03-07T00:00:00",
          "xanchor": "left",
          "xref": "x",
          "y": 1,
          "yanchor": "top",
          "yref": "y domain"
         },
         {
          "showarrow": false,
          "text": "Uncertainty",
          "x": "2022-10-17T00:00:00",
          "xanchor": "left",
          "xref": "x",
          "y": 1,
          "yanchor": "top",
          "yref": "y domain"
         }
        ],
        "shapes": [
         {
          "fillcolor": "green",
          "line": {
           "width": 0
          },
          "opacity": 0.25,
          "type": "rect",
          "x0": "2022-03-07T00:00:00",
          "x1": "2022-04-08T00:00:00",
          "xref": "x",
          "y0": 0,
          "y1": 1,
          "yref": "y domain"
         },
         {
          "fillcolor": "green",
          "line": {
           "width": 0
          },
          "opacity": 0.25,
          "type": "rect",
          "x0": "2022-10-17T00:00:00",
          "x1": "2022-11-18T00:00:00",
          "xref": "x",
          "y0": 0,
          "y1": 1,
          "yref": "y domain"
         }
        ],
        "template": {
         "data": {
          "bar": [
           {
            "error_x": {
             "color": "#2a3f5f"
            },
            "error_y": {
             "color": "#2a3f5f"
            },
            "marker": {
             "line": {
              "color": "#E5ECF6",
              "width": 0.5
             },
             "pattern": {
              "fillmode": "overlay",
              "size": 10,
              "solidity": 0.2
             }
            },
            "type": "bar"
           }
          ],
          "barpolar": [
           {
            "marker": {
             "line": {
              "color": "#E5ECF6",
              "width": 0.5
             },
             "pattern": {
              "fillmode": "overlay",
              "size": 10,
              "solidity": 0.2
             }
            },
            "type": "barpolar"
           }
          ],
          "carpet": [
           {
            "aaxis": {
             "endlinecolor": "#2a3f5f",
             "gridcolor": "white",
             "linecolor": "white",
             "minorgridcolor": "white",
             "startlinecolor": "#2a3f5f"
            },
            "baxis": {
             "endlinecolor": "#2a3f5f",
             "gridcolor": "white",
             "linecolor": "white",
             "minorgridcolor": "white",
             "startlinecolor": "#2a3f5f"
            },
            "type": "carpet"
           }
          ],
          "choropleth": [
           {
            "colorbar": {
             "outlinewidth": 0,
             "ticks": ""
            },
            "type": "choropleth"
           }
          ],
          "contour": [
           {
            "colorbar": {
             "outlinewidth": 0,
             "ticks": ""
            },
            "colorscale": [
             [
              0,
              "#0d0887"
             ],
             [
              0.1111111111111111,
              "#46039f"
             ],
             [
              0.2222222222222222,
              "#7201a8"
             ],
             [
              0.3333333333333333,
              "#9c179e"
             ],
             [
              0.4444444444444444,
              "#bd3786"
             ],
             [
              0.5555555555555556,
              "#d8576b"
             ],
             [
              0.6666666666666666,
              "#ed7953"
             ],
             [
              0.7777777777777778,
              "#fb9f3a"
             ],
             [
              0.8888888888888888,
              "#fdca26"
             ],
             [
              1,
              "#f0f921"
             ]
            ],
            "type": "contour"
           }
          ],
          "contourcarpet": [
           {
            "colorbar": {
             "outlinewidth": 0,
             "ticks": ""
            },
            "type": "contourcarpet"
           }
          ],
          "heatmap": [
           {
            "colorbar": {
             "outlinewidth": 0,
             "ticks": ""
            },
            "colorscale": [
             [
              0,
              "#0d0887"
             ],
             [
              0.1111111111111111,
              "#46039f"
             ],
             [
              0.2222222222222222,
              "#7201a8"
             ],
             [
              0.3333333333333333,
              "#9c179e"
             ],
             [
              0.4444444444444444,
              "#bd3786"
             ],
             [
              0.5555555555555556,
              "#d8576b"
             ],
             [
              0.6666666666666666,
              "#ed7953"
             ],
             [
              0.7777777777777778,
              "#fb9f3a"
             ],
             [
              0.8888888888888888,
              "#fdca26"
             ],
             [
              1,
              "#f0f921"
             ]
            ],
            "type": "heatmap"
           }
          ],
          "histogram": [
           {
            "marker": {
             "pattern": {
              "fillmode": "overlay",
              "size": 10,
              "solidity": 0.2
             }
            },
            "type": "histogram"
           }
          ],
          "histogram2d": [
           {
            "colorbar": {
             "outlinewidth": 0,
             "ticks": ""
            },
            "colorscale": [
             [
              0,
              "#0d0887"
             ],
             [
              0.1111111111111111,
              "#46039f"
             ],
             [
              0.2222222222222222,
              "#7201a8"
             ],
             [
              0.3333333333333333,
              "#9c179e"
             ],
             [
              0.4444444444444444,
              "#bd3786"
             ],
             [
              0.5555555555555556,
              "#d8576b"
             ],
             [
              0.6666666666666666,
              "#ed7953"
             ],
             [
              0.7777777777777778,
              "#fb9f3a"
             ],
             [
              0.8888888888888888,
              "#fdca26"
             ],
             [
              1,
              "#f0f921"
             ]
            ],
            "type": "histogram2d"
           }
          ],
          "histogram2dcontour": [
           {
            "colorbar": {
             "outlinewidth": 0,
             "ticks": ""
            },
            "colorscale": [
             [
              0,
              "#0d0887"
             ],
             [
              0.1111111111111111,
              "#46039f"
             ],
             [
              0.2222222222222222,
              "#7201a8"
             ],
             [
              0.3333333333333333,
              "#9c179e"
             ],
             [
              0.4444444444444444,
              "#bd3786"
             ],
             [
              0.5555555555555556,
              "#d8576b"
             ],
             [
              0.6666666666666666,
              "#ed7953"
             ],
             [
              0.7777777777777778,
              "#fb9f3a"
             ],
             [
              0.8888888888888888,
              "#fdca26"
             ],
             [
              1,
              "#f0f921"
             ]
            ],
            "type": "histogram2dcontour"
           }
          ],
          "mesh3d": [
           {
            "colorbar": {
             "outlinewidth": 0,
             "ticks": ""
            },
            "type": "mesh3d"
           }
          ],
          "parcoords": [
           {
            "line": {
             "colorbar": {
              "outlinewidth": 0,
              "ticks": ""
             }
            },
            "type": "parcoords"
           }
          ],
          "pie": [
           {
            "automargin": true,
            "type": "pie"
           }
          ],
          "scatter": [
           {
            "fillpattern": {
             "fillmode": "overlay",
             "size": 10,
             "solidity": 0.2
            },
            "type": "scatter"
           }
          ],
          "scatter3d": [
           {
            "line": {
             "colorbar": {
              "outlinewidth": 0,
              "ticks": ""
             }
            },
            "marker": {
             "colorbar": {
              "outlinewidth": 0,
              "ticks": ""
             }
            },
            "type": "scatter3d"
           }
          ],
          "scattercarpet": [
           {
            "marker": {
             "colorbar": {
              "outlinewidth": 0,
              "ticks": ""
             }
            },
            "type": "scattercarpet"
           }
          ],
          "scattergeo": [
           {
            "marker": {
             "colorbar": {
              "outlinewidth": 0,
              "ticks": ""
             }
            },
            "type": "scattergeo"
           }
          ],
          "scattergl": [
           {
            "marker": {
             "colorbar": {
              "outlinewidth": 0,
              "ticks": ""
             }
            },
            "type": "scattergl"
           }
          ],
          "scattermap": [
           {
            "marker": {
             "colorbar": {
              "outlinewidth": 0,
              "ticks": ""
             }
            },
            "type": "scattermap"
           }
          ],
          "scattermapbox": [
           {
            "marker": {
             "colorbar": {
              "outlinewidth": 0,
              "ticks": ""
             }
            },
            "type": "scattermapbox"
           }
          ],
          "scatterpolar": [
           {
            "marker": {
             "colorbar": {
              "outlinewidth": 0,
              "ticks": ""
             }
            },
            "type": "scatterpolar"
           }
          ],
          "scatterpolargl": [
           {
            "marker": {
             "colorbar": {
              "outlinewidth": 0,
              "ticks": ""
             }
            },
            "type": "scatterpolargl"
           }
          ],
          "scatterternary": [
           {
            "marker": {
             "colorbar": {
              "outlinewidth": 0,
              "ticks": ""
             }
            },
            "type": "scatterternary"
           }
          ],
          "surface": [
           {
            "colorbar": {
             "outlinewidth": 0,
             "ticks": ""
            },
            "colorscale": [
             [
              0,
              "#0d0887"
             ],
             [
              0.1111111111111111,
              "#46039f"
             ],
             [
              0.2222222222222222,
              "#7201a8"
             ],
             [
              0.3333333333333333,
              "#9c179e"
             ],
             [
              0.4444444444444444,
              "#bd3786"
             ],
             [
              0.5555555555555556,
              "#d8576b"
             ],
             [
              0.6666666666666666,
              "#ed7953"
             ],
             [
              0.7777777777777778,
              "#fb9f3a"
             ],
             [
              0.8888888888888888,
              "#fdca26"
             ],
             [
              1,
              "#f0f921"
             ]
            ],
            "type": "surface"
           }
          ],
          "table": [
           {
            "cells": {
             "fill": {
              "color": "#EBF0F8"
             },
             "line": {
              "color": "white"
             }
            },
            "header": {
             "fill": {
              "color": "#C8D4E3"
             },
             "line": {
              "color": "white"
             }
            },
            "type": "table"
           }
          ]
         },
         "layout": {
          "annotationdefaults": {
           "arrowcolor": "#2a3f5f",
           "arrowhead": 0,
           "arrowwidth": 1
          },
          "autotypenumbers": "strict",
          "coloraxis": {
           "colorbar": {
            "outlinewidth": 0,
            "ticks": ""
           }
          },
          "colorscale": {
           "diverging": [
            [
             0,
             "#8e0152"
            ],
            [
             0.1,
             "#c51b7d"
            ],
            [
             0.2,
             "#de77ae"
            ],
            [
             0.3,
             "#f1b6da"
            ],
            [
             0.4,
             "#fde0ef"
            ],
            [
             0.5,
             "#f7f7f7"
            ],
            [
             0.6,
             "#e6f5d0"
            ],
            [
             0.7,
             "#b8e186"
            ],
            [
             0.8,
             "#7fbc41"
            ],
            [
             0.9,
             "#4d9221"
            ],
            [
             1,
             "#276419"
            ]
           ],
           "sequential": [
            [
             0,
             "#0d0887"
            ],
            [
             0.1111111111111111,
             "#46039f"
            ],
            [
             0.2222222222222222,
             "#7201a8"
            ],
            [
             0.3333333333333333,
             "#9c179e"
            ],
            [
             0.4444444444444444,
             "#bd3786"
            ],
            [
             0.5555555555555556,
             "#d8576b"
            ],
            [
             0.6666666666666666,
             "#ed7953"
            ],
            [
             0.7777777777777778,
             "#fb9f3a"
            ],
            [
             0.8888888888888888,
             "#fdca26"
            ],
            [
             1,
             "#f0f921"
            ]
           ],
           "sequentialminus": [
            [
             0,
             "#0d0887"
            ],
            [
             0.1111111111111111,
             "#46039f"
            ],
            [
             0.2222222222222222,
             "#7201a8"
            ],
            [
             0.3333333333333333,
             "#9c179e"
            ],
            [
             0.4444444444444444,
             "#bd3786"
            ],
            [
             0.5555555555555556,
             "#d8576b"
            ],
            [
             0.6666666666666666,
             "#ed7953"
            ],
            [
             0.7777777777777778,
             "#fb9f3a"
            ],
            [
             0.8888888888888888,
             "#fdca26"
            ],
            [
             1,
             "#f0f921"
            ]
           ]
          },
          "colorway": [
           "#636efa",
           "#EF553B",
           "#00cc96",
           "#ab63fa",
           "#FFA15A",
           "#19d3f3",
           "#FF6692",
           "#B6E880",
           "#FF97FF",
           "#FECB52"
          ],
          "font": {
           "color": "#2a3f5f"
          },
          "geo": {
           "bgcolor": "white",
           "lakecolor": "white",
           "landcolor": "#E5ECF6",
           "showlakes": true,
           "showland": true,
           "subunitcolor": "white"
          },
          "hoverlabel": {
           "align": "left"
          },
          "hovermode": "closest",
          "mapbox": {
           "style": "light"
          },
          "paper_bgcolor": "white",
          "plot_bgcolor": "#E5ECF6",
          "polar": {
           "angularaxis": {
            "gridcolor": "white",
            "linecolor": "white",
            "ticks": ""
           },
           "bgcolor": "#E5ECF6",
           "radialaxis": {
            "gridcolor": "white",
            "linecolor": "white",
            "ticks": ""
           }
          },
          "scene": {
           "xaxis": {
            "backgroundcolor": "#E5ECF6",
            "gridcolor": "white",
            "gridwidth": 2,
            "linecolor": "white",
            "showbackground": true,
            "ticks": "",
            "zerolinecolor": "white"
           },
           "yaxis": {
            "backgroundcolor": "#E5ECF6",
            "gridcolor": "white",
            "gridwidth": 2,
            "linecolor": "white",
            "showbackground": true,
            "ticks": "",
            "zerolinecolor": "white"
           },
           "zaxis": {
            "backgroundcolor": "#E5ECF6",
            "gridcolor": "white",
            "gridwidth": 2,
            "linecolor": "white",
            "showbackground": true,
            "ticks": "",
            "zerolinecolor": "white"
           }
          },
          "shapedefaults": {
           "line": {
            "color": "#2a3f5f"
           }
          },
          "ternary": {
           "aaxis": {
            "gridcolor": "white",
            "linecolor": "white",
            "ticks": ""
           },
           "baxis": {
            "gridcolor": "white",
            "linecolor": "white",
            "ticks": ""
           },
           "bgcolor": "#E5ECF6",
           "caxis": {
            "gridcolor": "white",
            "linecolor": "white",
            "ticks": ""
           }
          },
          "title": {
           "x": 0.05
          },
          "xaxis": {
           "automargin": true,
           "gridcolor": "white",
           "linecolor": "white",
           "ticks": "",
           "title": {
            "standoff": 15
           },
           "zerolinecolor": "white",
           "zerolinewidth": 2
          },
          "yaxis": {
           "automargin": true,
           "gridcolor": "white",
           "linecolor": "white",
           "ticks": "",
           "title": {
            "standoff": 15
           },
           "zerolinecolor": "white",
           "zerolinewidth": 2
          }
         }
        }
       }
      }
     },
     "metadata": {},
     "output_type": "display_data"
    }
   ],
   "source": [
    "plot_advanced_phenometrics(cube=datacube, ds_phenos=phenometrics[2020])"
   ]
  },
  {
   "cell_type": "markdown",
   "metadata": {},
   "source": [
    "# Retrieve Description\n",
    "<hr style=\"border:1px solid #0077b9;\">\n",
    "\n",
    "Once you start using wcpms to extract phenology metrics, the information about each metric becomes very important. To help you with that, we provide a complete description of all the metrics provided by the service. It is possible to plot a table with all the descriptions with the `get_description` function:"
   ]
  },
  {
   "cell_type": "code",
   "execution_count": 18,
   "metadata": {},
   "outputs": [
    {
     "data": {
      "text/html": [
       "<table style=\"width:90%;margin-left:5%;margin-right:5%;margin-top:5%;\"><tr><td><b>Code</b></td><td><b>Name</b></td><td><b>Description</b></td><td><b>Method</b></td><td><b>Value</b></td><td><b>Time</b></td></tr><tr><td>POS</td><td>Peak of Season</td><td>Highest vegetation value and time of season.</td><td>Maximum value in a timeseries.</td><td>True</td><td>True</td></tr><tr><td>MOS</td><td>Middle of Season</td><td>Mean vegetation value and time of values in top 80 of season.</td><td>Mean value and time where the left and right slope edges have increased and decreased to the 80 level of the season, respectively.</td><td>True</td><td>False</td></tr><tr><td>VOS</td><td>Valley of Season</td><td>Lowest vegetation value and time of season.</td><td>Minimum value in a timeseries.</td><td>True</td><td>True</td></tr><tr><td>BSE</td><td>Base</td><td>Mean of the lowest vegetation values in season.</td><td>Mean value of the lowest vegetation values to the left and right of Peak of Season.</td><td>True</td><td>False</td></tr><tr><td>SOS</td><td>Start of Season</td><td>Vegetation value and time at the start of season.</td><td>Six methods available: 1) seasonal amplitude; 2) absolute amplitude; 3) Relative amplitude; 4) LOESS STL Trend line; 5) First value of positive slope; and 6) Median value of positive slope.</td><td>True</td><td>True</td></tr><tr><td>EOS</td><td>End of season</td><td>Vegetation value and time at the end of season.</td><td>Six methods available: 1) seasonal amplitude; 2) absolute amplitude; 3) Relative amplitude; 4) LOESS STL Trend line; 5) First value of negative slope; and 6) Median value of negative slope.</td><td>True</td><td>True</td></tr><tr><td>LOS</td><td>Length of Season</td><td>Length of time (number of days) between the start and end of season.</td><td>The day of year at SOS minus EOS.</td><td>False</td><td>True</td></tr><tr><td>ROI</td><td>Rate of Increase</td><td>The rate of vegetation 'green up' at the beginning of season.</td><td>Calculated as the ratio of the difference between the left 20 and 80 levels and the corresponding time difference.</td><td>True</td><td>False</td></tr><tr><td>ROD</td><td>Rate of Decrease</td><td>The rate of vegetation 'green down' at the end of season.</td><td>Calculated as the ratio of the difference between the right 20 and 80 levels and the corresponding time difference.</td><td>True</td><td>False</td></tr><tr><td>AOS</td><td>Amplitude of Season</td><td>The amplitude of vegetation values for season.</td><td>The difference between the maximum value and the VOS/BSE value.</td><td>True</td><td>False</td></tr><tr><td>SIOS</td><td>Short Integral of Season</td><td>Represents the seasonally active vegetation and provides a larger value for herbaceous vegetation cover and smaller value for evergreen vegetation cover.</td><td>Calculated using the trapezoidal rule on the total vegetation values between season start and end minus the VOS/BSE level value.</td><td>True</td><td>False</td></tr><tr><td>LIOS</td><td>Long Integral of Season</td><td>Represents the total productivity of vegetation when in season.</td><td>Calculated using the trapezoidal rule between the total vegetation values between season start and end.</td><td>True</td><td>False</td></tr><tr><td>SIOT</td><td>Short Integral of Total</td><td>Represents total vegetation productivity throughout the season, and provides a larger value for herbaceous vegetation cover and smaller value for evergreen vegetation cover.</td><td>Calculated using the trapezoidal rule on the total vegetation values minus the VOS/BSE level value.</td><td>True</td><td>False</td></tr><tr><td>LIOT</td><td>Long Integral of Total</td><td>Represents the total productivity of vegetation throughout the season.</td><td>Calculated using the trapezoidal rule between the total vegetation values between season start and end.</td><td>True</td><td>False</td></tr><tr><td>NOS</td><td>Number of Seasons</td><td>Total number of seasons (i.e. prominent graph peaks) in timerseries.</td><td>Peaks detected using scipy find_peaks and any peaks are over 3 months apart.</td><td>False</td><td>False</td></tr></table>"
      ],
      "text/plain": [
       "<IPython.core.display.HTML object>"
      ]
     },
     "metadata": {},
     "output_type": "display_data"
    }
   ],
   "source": [
    "description=get_description(\n",
    "    url = wcpms_url\n",
    ")\n",
    "\n",
    "description"
   ]
  },
  {
   "cell_type": "markdown",
   "metadata": {},
   "source": [
    "# References\n",
    "<hr style=\"border:1px solid #0077b9;\">"
   ]
  },
  {
   "cell_type": "markdown",
   "metadata": {},
   "source": []
  },
  {
   "cell_type": "markdown",
   "metadata": {
    "editable": true,
    "slideshow": {
     "slide_type": ""
    },
    "tags": []
   },
   "source": [
    "# See also the following Jupyter Notebooks\n",
    "<hr style=\"border:1px solid #0077b9;\">\n",
    "\n",
    "* [WCPMS Introduction Examples](./wcpms-introduction.ipynb)"
   ]
  }
 ],
 "metadata": {
  "kernelspec": {
   "display_name": "Python 3",
   "language": "python",
   "name": "python3"
  },
  "language_info": {
   "codemirror_mode": {
    "name": "ipython",
    "version": 3
   },
   "file_extension": ".py",
   "mimetype": "text/x-python",
   "name": "python",
   "nbconvert_exporter": "python",
   "pygments_lexer": "ipython3",
   "version": "3.10.12"
  }
 },
 "nbformat": 4,
 "nbformat_minor": 4
}
