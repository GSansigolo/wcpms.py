{
 "cells": [
  {
   "cell_type": "markdown",
   "metadata": {
    "editable": true,
    "slideshow": {
     "slide_type": ""
    },
    "tags": []
   },
   "source": [
    "# <span style=\"color:#336699\">Web Crop Phenology Metrics Service (WCPMS) Advanced</span>\n",
    "<hr style=\"border:2px solid #0077b9;\">\n",
    "\n",
    "<div style=\"text-align: left;\">\n",
    "    <a href=\"https://nbviewer.jupyter.org/github/brazil-data-cube/code-gallery/\"><img src=\"https://raw.githubusercontent.com/jupyter/design/master/logos/Badges/nbviewer_badge.svg\" align=\"center\"/></a>\n",
    "</div>\n",
    "\n",
    "<br/>\n",
    "\n",
    "<div style=\"text-align: center;font-size: 90%;\">\n",
    "    Gabriel Sansigolo<sup><a href=\"https://orcid.org/0000-0003-0789-5858\"><i class=\"fab fa-lg fa-orcid\" style=\"color: #a6ce39\"></i></a></sup>\n",
    "    <br/><br/>\n",
    "    Earth Observation and Geoinformatics Division, National Institute for Space Research (INPE)\n",
    "    <br/>\n",
    "    Avenida dos Astronautas, 1758, Jardim da Granja, São José dos Campos, SP 12227-010, Brazil\n",
    "    <br/><br/>\n",
    "    Contact: <a href=\"mailto:brazildatacube@inpe.br\">brazildatacube@inpe.br</a>\n",
    "    <br/><br/>\n",
    "    Last Update: Sept 14, 2024\n",
    "</div>\n",
    "\n",
    "<br/>\n",
    "\n",
    "<div style=\"text-align: justify;  margin-left: 25%; margin-right: 25%;\">\n",
    "<b>Abstract.</b> This Jupyter Notebook explains how to use the WCPMS service to extract phenology metrics on regions from <em>Earth Observation Data Cubes</em>.\n",
    "</div>\n",
    "\n",
    "<br/>\n",
    "<div style=\"text-align: justify;  margin-left: 25%; margin-right: 25%;font-size: 75%; border-style: solid; border-color: #0077b9; border-width: 1px; padding: 5px;\">\n",
    "    <b>This Jupyter Notebook is a supplement to the following paper:</b>\n",
    "    <div style=\"margin-left: 10px; margin-right: 10px\">\n",
    "    Sansigolo, G.; Queiroz, G. R.; Ferreira, K. R.; Adami, M.; Körting, T.<a href=\"http://www.google.com\" target=\"_blank\">A Web Service for Crop Sowing and Harvesting Detection from Earth Observation Data Cubes.\n",
    "    </div>\n",
    "</div>"
   ]
  },
  {
   "cell_type": "markdown",
   "metadata": {},
   "source": [
    "# Introduction\n",
    "<hr style=\"border:1px solid #0077b9;\">"
   ]
  },
  {
   "cell_type": "markdown",
   "metadata": {},
   "source": [
    "The Web Crop Phenology Metrics Service (WCPMS) is open-source web service for calculating phenological metrics based on the Earth Observation Data from the Brazil Data Cube (BDC). It will allow users to easily calculate phenological metrics from data cubes without downloading big EO datasets to their personal computers. \n",
    "\n",
    "The software will run on the server side, so it doesn't require any package installation or user programming skills to use it. By giving a point or a region it will retrieve the phenological metrics associated with spatial locations by calculating it using time series.\n",
    "\n",
    "WCPMS API is composed of four operations:\n",
    "\n",
    "- ``list_collections``: returns in list form the unique identifier of each of the data cubes available in the BDC's SpatioTemporal Asset Catalogs (STAC).\n",
    "\n",
    "- ``describe``: returns in dictionary format the information on each of the phenology metrics, such as code, name, description and method. \t\n",
    "\n",
    "- ``phenometrics``: returns in dictionary form all the phenological metrics calculated for the given spatial location. \n",
    "\n",
    "- ``phenometrics (region)``: returns in list form  dictionary with the phenological metrics calculated for each of the given spatial location based on selected region methodology (all, systematic grid or random grid).\n",
    "\n",
    "This Jupyter Notebook shows how to use WCPMS in Python."
   ]
  },
  {
   "cell_type": "markdown",
   "metadata": {},
   "source": [
    "## Web Service\n",
    "<hr style=\"border:1px solid #0077b9;\">"
   ]
  },
  {
   "cell_type": "markdown",
   "metadata": {},
   "source": [
    "\n",
    "The architecture of the proposed web service is made up of two sides: (1) the server-side and (2) the client-side. It will allow users to calculate phenological metrics from data cubes without needing to download big EO datasets to their personal computers. The web service, run on the server-side, so everything related to it, such as the libraries for calculating phenological metrics, the access to the web service for extracting time series (WTSS), is on the cloud, so it doesn't require any package installation or user programming skills to use it. \n",
    "\n",
    "The WCPMS is an open-source web service for calculating phenological metrics based on the Earth Observation Data from the Brazil Data Cube (BDC), as illustrated in Figure 1. Through a simple API, users indicate a spatial location or region and the WCPMS will retrieve the phenological metrics associated with spatial locations by calculating it using time series.\n",
    "\n",
    "<div align=\"center\">\n",
    "    <figcaption><strong>Figure 1</strong> - Architecture of the web service for phenological metrics extraction </figcaption>\n",
    "    <img src=\"https://github.com/GSansigolo/wcpms.py/blob/master/images/wcpms_architecture.png?raw=true\" align=\"center\" width=\"768\"/>\n",
    "    <br>\n",
    "</div>\n"
   ]
  },
  {
   "cell_type": "markdown",
   "metadata": {},
   "source": [
    "# Python Client API\n",
    "<hr style=\"border:1px solid #0077b9;\">"
   ]
  },
  {
   "cell_type": "markdown",
   "metadata": {},
   "source": [
    "For running the examples in this Jupyter Notebook you will need to install the [WCPMS client for Python](https://github.com/brazil-data-cube/wcpms.py). To install it from PyPI using `pip`, use the following command:"
   ]
  },
  {
   "cell_type": "code",
   "execution_count": 1,
   "metadata": {
    "editable": true,
    "scrolled": true,
    "slideshow": {
     "slide_type": ""
    },
    "tags": []
   },
   "outputs": [
    {
     "name": "stdout",
     "output_type": "stream",
     "text": [
      "Collecting git+https://github.com/brazil-data-cube/wcpms.py\n",
      "  Cloning https://github.com/brazil-data-cube/wcpms.py to /private/var/folders/2b/3r28ml1d7yj3ltn73r94__hr0000gn/T/pip-req-build-7uut0u32\n",
      "  Running command git clone --filter=blob:none --quiet https://github.com/brazil-data-cube/wcpms.py /private/var/folders/2b/3r28ml1d7yj3ltn73r94__hr0000gn/T/pip-req-build-7uut0u32\n",
      "  Resolved https://github.com/brazil-data-cube/wcpms.py to commit 1afe30446dd7fce991d849a8f9d913b6d02bdad2\n",
      "  Installing build dependencies ... \u001b[?25ldone\n",
      "\u001b[?25h  Getting requirements to build wheel ... \u001b[?25ldone\n",
      "\u001b[?25h  Installing backend dependencies ... \u001b[?25ldone\n",
      "\u001b[?25h  Preparing metadata (pyproject.toml) ... \u001b[?25ldone\n",
      "\u001b[?25hRequirement already satisfied: urllib3==2.2.2 in /Library/Frameworks/Python.framework/Versions/3.11/lib/python3.11/site-packages (from wcpms==0.0.1) (2.2.2)\n",
      "Requirement already satisfied: requests==2.32.3 in /Library/Frameworks/Python.framework/Versions/3.11/lib/python3.11/site-packages (from wcpms==0.0.1) (2.32.3)\n",
      "Requirement already satisfied: pandas==2.2.2 in /Library/Frameworks/Python.framework/Versions/3.11/lib/python3.11/site-packages (from wcpms==0.0.1) (2.2.2)\n",
      "Requirement already satisfied: matplotlib==3.9.0 in /Library/Frameworks/Python.framework/Versions/3.11/lib/python3.11/site-packages (from wcpms==0.0.1) (3.9.0)\n",
      "Requirement already satisfied: scipy==1.13.1 in /Library/Frameworks/Python.framework/Versions/3.11/lib/python3.11/site-packages (from wcpms==0.0.1) (1.13.1)\n",
      "Requirement already satisfied: datetime==5.5 in /Library/Frameworks/Python.framework/Versions/3.11/lib/python3.11/site-packages (from wcpms==0.0.1) (5.5)\n",
      "Requirement already satisfied: ipython==8.26.0 in /Library/Frameworks/Python.framework/Versions/3.11/lib/python3.11/site-packages (from wcpms==0.0.1) (8.26.0)\n",
      "Requirement already satisfied: geopandas==1.0.1 in /Library/Frameworks/Python.framework/Versions/3.11/lib/python3.11/site-packages (from wcpms==0.0.1) (1.0.1)\n",
      "Requirement already satisfied: zope.interface in /Library/Frameworks/Python.framework/Versions/3.11/lib/python3.11/site-packages (from datetime==5.5->wcpms==0.0.1) (6.4.post2)\n",
      "Requirement already satisfied: pytz in /Library/Frameworks/Python.framework/Versions/3.11/lib/python3.11/site-packages (from datetime==5.5->wcpms==0.0.1) (2023.3.post1)\n",
      "Requirement already satisfied: numpy>=1.22 in /Library/Frameworks/Python.framework/Versions/3.11/lib/python3.11/site-packages (from geopandas==1.0.1->wcpms==0.0.1) (1.26.3)\n",
      "Requirement already satisfied: pyogrio>=0.7.2 in /Library/Frameworks/Python.framework/Versions/3.11/lib/python3.11/site-packages (from geopandas==1.0.1->wcpms==0.0.1) (0.9.0)\n",
      "Requirement already satisfied: packaging in /Library/Frameworks/Python.framework/Versions/3.11/lib/python3.11/site-packages (from geopandas==1.0.1->wcpms==0.0.1) (23.2)\n",
      "Requirement already satisfied: pyproj>=3.3.0 in /Library/Frameworks/Python.framework/Versions/3.11/lib/python3.11/site-packages (from geopandas==1.0.1->wcpms==0.0.1) (3.6.1)\n",
      "Requirement already satisfied: shapely>=2.0.0 in /Library/Frameworks/Python.framework/Versions/3.11/lib/python3.11/site-packages (from geopandas==1.0.1->wcpms==0.0.1) (2.0.2)\n",
      "Requirement already satisfied: decorator in /Library/Frameworks/Python.framework/Versions/3.11/lib/python3.11/site-packages (from ipython==8.26.0->wcpms==0.0.1) (5.1.1)\n",
      "Requirement already satisfied: jedi>=0.16 in /Library/Frameworks/Python.framework/Versions/3.11/lib/python3.11/site-packages (from ipython==8.26.0->wcpms==0.0.1) (0.19.1)\n",
      "Requirement already satisfied: matplotlib-inline in /Library/Frameworks/Python.framework/Versions/3.11/lib/python3.11/site-packages (from ipython==8.26.0->wcpms==0.0.1) (0.1.7)\n",
      "Requirement already satisfied: prompt-toolkit<3.1.0,>=3.0.41 in /Library/Frameworks/Python.framework/Versions/3.11/lib/python3.11/site-packages (from ipython==8.26.0->wcpms==0.0.1) (3.0.47)\n",
      "Requirement already satisfied: pygments>=2.4.0 in /Library/Frameworks/Python.framework/Versions/3.11/lib/python3.11/site-packages (from ipython==8.26.0->wcpms==0.0.1) (2.18.0)\n",
      "Requirement already satisfied: stack-data in /Library/Frameworks/Python.framework/Versions/3.11/lib/python3.11/site-packages (from ipython==8.26.0->wcpms==0.0.1) (0.6.3)\n",
      "Requirement already satisfied: traitlets>=5.13.0 in /Library/Frameworks/Python.framework/Versions/3.11/lib/python3.11/site-packages (from ipython==8.26.0->wcpms==0.0.1) (5.14.3)\n",
      "Requirement already satisfied: typing-extensions>=4.6 in /Library/Frameworks/Python.framework/Versions/3.11/lib/python3.11/site-packages (from ipython==8.26.0->wcpms==0.0.1) (4.9.0)\n",
      "Requirement already satisfied: pexpect>4.3 in /Library/Frameworks/Python.framework/Versions/3.11/lib/python3.11/site-packages (from ipython==8.26.0->wcpms==0.0.1) (4.9.0)\n",
      "Requirement already satisfied: contourpy>=1.0.1 in /Library/Frameworks/Python.framework/Versions/3.11/lib/python3.11/site-packages (from matplotlib==3.9.0->wcpms==0.0.1) (1.2.1)\n",
      "Requirement already satisfied: cycler>=0.10 in /Library/Frameworks/Python.framework/Versions/3.11/lib/python3.11/site-packages (from matplotlib==3.9.0->wcpms==0.0.1) (0.12.1)\n",
      "Requirement already satisfied: fonttools>=4.22.0 in /Library/Frameworks/Python.framework/Versions/3.11/lib/python3.11/site-packages (from matplotlib==3.9.0->wcpms==0.0.1) (4.53.1)\n",
      "Requirement already satisfied: kiwisolver>=1.3.1 in /Library/Frameworks/Python.framework/Versions/3.11/lib/python3.11/site-packages (from matplotlib==3.9.0->wcpms==0.0.1) (1.4.5)\n",
      "Requirement already satisfied: pillow>=8 in /Library/Frameworks/Python.framework/Versions/3.11/lib/python3.11/site-packages (from matplotlib==3.9.0->wcpms==0.0.1) (10.4.0)\n",
      "Requirement already satisfied: pyparsing>=2.3.1 in /Library/Frameworks/Python.framework/Versions/3.11/lib/python3.11/site-packages (from matplotlib==3.9.0->wcpms==0.0.1) (3.1.1)\n",
      "Requirement already satisfied: python-dateutil>=2.7 in /Library/Frameworks/Python.framework/Versions/3.11/lib/python3.11/site-packages (from matplotlib==3.9.0->wcpms==0.0.1) (2.8.2)\n",
      "Requirement already satisfied: tzdata>=2022.7 in /Library/Frameworks/Python.framework/Versions/3.11/lib/python3.11/site-packages (from pandas==2.2.2->wcpms==0.0.1) (2023.4)\n",
      "Requirement already satisfied: charset-normalizer<4,>=2 in /Library/Frameworks/Python.framework/Versions/3.11/lib/python3.11/site-packages (from requests==2.32.3->wcpms==0.0.1) (3.3.2)\n",
      "Requirement already satisfied: idna<4,>=2.5 in /Library/Frameworks/Python.framework/Versions/3.11/lib/python3.11/site-packages (from requests==2.32.3->wcpms==0.0.1) (3.6)\n",
      "Requirement already satisfied: certifi>=2017.4.17 in /Library/Frameworks/Python.framework/Versions/3.11/lib/python3.11/site-packages (from requests==2.32.3->wcpms==0.0.1) (2023.11.17)\n",
      "Requirement already satisfied: parso<0.9.0,>=0.8.3 in /Library/Frameworks/Python.framework/Versions/3.11/lib/python3.11/site-packages (from jedi>=0.16->ipython==8.26.0->wcpms==0.0.1) (0.8.4)\n",
      "Requirement already satisfied: ptyprocess>=0.5 in /Library/Frameworks/Python.framework/Versions/3.11/lib/python3.11/site-packages (from pexpect>4.3->ipython==8.26.0->wcpms==0.0.1) (0.7.0)\n",
      "Requirement already satisfied: wcwidth in /Library/Frameworks/Python.framework/Versions/3.11/lib/python3.11/site-packages (from prompt-toolkit<3.1.0,>=3.0.41->ipython==8.26.0->wcpms==0.0.1) (0.2.13)\n",
      "Requirement already satisfied: six>=1.5 in /Library/Frameworks/Python.framework/Versions/3.11/lib/python3.11/site-packages (from python-dateutil>=2.7->matplotlib==3.9.0->wcpms==0.0.1) (1.16.0)\n",
      "Requirement already satisfied: executing>=1.2.0 in /Library/Frameworks/Python.framework/Versions/3.11/lib/python3.11/site-packages (from stack-data->ipython==8.26.0->wcpms==0.0.1) (2.1.0)\n",
      "Requirement already satisfied: asttokens>=2.1.0 in /Library/Frameworks/Python.framework/Versions/3.11/lib/python3.11/site-packages (from stack-data->ipython==8.26.0->wcpms==0.0.1) (2.4.1)\n",
      "Requirement already satisfied: pure-eval in /Library/Frameworks/Python.framework/Versions/3.11/lib/python3.11/site-packages (from stack-data->ipython==8.26.0->wcpms==0.0.1) (0.2.3)\n",
      "Requirement already satisfied: setuptools in /Library/Frameworks/Python.framework/Versions/3.11/lib/python3.11/site-packages (from zope.interface->datetime==5.5->wcpms==0.0.1) (65.5.0)\n",
      "\n",
      "\u001b[1m[\u001b[0m\u001b[34;49mnotice\u001b[0m\u001b[1;39;49m]\u001b[0m\u001b[39;49m A new release of pip is available: \u001b[0m\u001b[31;49m24.0\u001b[0m\u001b[39;49m -> \u001b[0m\u001b[32;49m24.2\u001b[0m\n",
      "\u001b[1m[\u001b[0m\u001b[34;49mnotice\u001b[0m\u001b[1;39;49m]\u001b[0m\u001b[39;49m To update, run: \u001b[0m\u001b[32;49mpip install --upgrade pip\u001b[0m\n"
     ]
    }
   ],
   "source": [
    "!pip install git+https://github.com/brazil-data-cube/wcpms.py"
   ]
  },
  {
   "cell_type": "markdown",
   "metadata": {},
   "source": [
    "In order to access the funcionalities of the client API, you should import the `wcpms` package and `os` package, as follows:"
   ]
  },
  {
   "cell_type": "code",
   "execution_count": 2,
   "metadata": {},
   "outputs": [],
   "source": [
    "import os\n",
    "from wcpms import *"
   ]
  },
  {
   "cell_type": "markdown",
   "metadata": {},
   "source": [
    "After that, you should add the `wcpms` service url:"
   ]
  },
  {
   "cell_type": "code",
   "execution_count": 3,
   "metadata": {},
   "outputs": [],
   "source": [
    "wcpms_url = 'https://data.inpe.br/bdc/wcpms' "
   ]
  },
  {
   "cell_type": "markdown",
   "metadata": {},
   "source": [
    "The above cell will create an string named `service` that will save the wcpms url for future use."
   ]
  },
  {
   "cell_type": "markdown",
   "metadata": {},
   "source": [
    "# Select Data Cube\n",
    "<hr style=\"border:1px solid #0077b9;\">\n",
    "\n",
    "Before creating a data cube query, it is important to select a data cubes from the BDC catalog. It is possible to retrive a list with avaliable data cubes with the `get_collections` function:"
   ]
  },
  {
   "cell_type": "code",
   "execution_count": 4,
   "metadata": {},
   "outputs": [
    {
     "data": {
      "text/plain": [
       "['CBERS4-MUX-2M-1',\n",
       " 'CBERS4-WFI-16D-2',\n",
       " 'CBERS-WFI-8D-1',\n",
       " 'LANDSAT-16D-1',\n",
       " 'mod13q1-6.1',\n",
       " 'myd13q1-6.1',\n",
       " 'S2-16D-2']"
      ]
     },
     "execution_count": 4,
     "metadata": {},
     "output_type": "execute_result"
    }
   ],
   "source": [
    "colections=get_collections(\n",
    "    url = wcpms_url\n",
    ")\n",
    "\n",
    "colections"
   ]
  },
  {
   "cell_type": "markdown",
   "metadata": {},
   "source": [
    "# Creating a Data Cube Query\n",
    "<hr style=\"border:1px solid #0077b9;\">\n",
    "\n",
    "To make it easier to use, there is a function to create a data cube query called `cube_query`:"
   ]
  },
  {
   "cell_type": "code",
   "execution_count": 5,
   "metadata": {},
   "outputs": [],
   "source": [
    "datacube=cube_query(\n",
    "    collection=\"S2-16D-2\",\n",
    "    start_date=\"2022-01-01\",\n",
    "    end_date=\"2022-12-31\",\n",
    "    freq=\"16D\",\n",
    "    band=\"NDVI\"\n",
    ")"
   ]
  },
  {
   "cell_type": "markdown",
   "metadata": {},
   "source": [
    "# Opening a shapefile to select a region\n",
    "<hr style=\"border:1px solid #0077b9;\">\n",
    "\n",
    "To easily open a shapefile you can use the geopandas (gpd) contained in the wcpms library, there is a function called `gpd_shapefile`:"
   ]
  },
  {
   "cell_type": "code",
   "execution_count": 6,
   "metadata": {},
   "outputs": [],
   "source": [
    "path_dir = os.path.dirname(\"\")"
   ]
  },
  {
   "cell_type": "code",
   "execution_count": 7,
   "metadata": {},
   "outputs": [
    {
     "data": {
      "text/html": [
       "<div>\n",
       "<style scoped>\n",
       "    .dataframe tbody tr th:only-of-type {\n",
       "        vertical-align: middle;\n",
       "    }\n",
       "\n",
       "    .dataframe tbody tr th {\n",
       "        vertical-align: top;\n",
       "    }\n",
       "\n",
       "    .dataframe thead th {\n",
       "        text-align: right;\n",
       "    }\n",
       "</style>\n",
       "<table border=\"1\" class=\"dataframe\">\n",
       "  <thead>\n",
       "    <tr style=\"text-align: right;\">\n",
       "      <th></th>\n",
       "      <th>gid</th>\n",
       "      <th>gleba_gid</th>\n",
       "      <th>ref_bacen</th>\n",
       "      <th>nu_ordem</th>\n",
       "      <th>nu_indice</th>\n",
       "      <th>data_emissao_contrato</th>\n",
       "      <th>area_gleba</th>\n",
       "      <th>perimetro_gleba</th>\n",
       "      <th>area_menor_retangulo_envolvente</th>\n",
       "      <th>area_menor_circulo_envolvente</th>\n",
       "      <th>...</th>\n",
       "      <th>cop_fim_colheita</th>\n",
       "      <th>rcp_inicio_plantio</th>\n",
       "      <th>rcp_fim_plantio</th>\n",
       "      <th>rcp_inicio_colheita</th>\n",
       "      <th>rcp_fim_colheita</th>\n",
       "      <th>rcp_inicio_evento</th>\n",
       "      <th>rcp_fim_evento</th>\n",
       "      <th>proagro_evento</th>\n",
       "      <th>proagro_status</th>\n",
       "      <th>geometry</th>\n",
       "    </tr>\n",
       "  </thead>\n",
       "  <tbody>\n",
       "    <tr>\n",
       "      <th>0</th>\n",
       "      <td>2115</td>\n",
       "      <td>4445466</td>\n",
       "      <td>513320941</td>\n",
       "      <td>1</td>\n",
       "      <td>0</td>\n",
       "      <td>2022-01-03</td>\n",
       "      <td>211423.677914</td>\n",
       "      <td>2904.238901</td>\n",
       "      <td>450743.714007</td>\n",
       "      <td>647747.686306</td>\n",
       "      <td>...</td>\n",
       "      <td>2022-08-02</td>\n",
       "      <td>2022-02-20</td>\n",
       "      <td>2022-02-28</td>\n",
       "      <td>2022-08-15</td>\n",
       "      <td>2022-08-22</td>\n",
       "      <td>2022-05-01</td>\n",
       "      <td>2022-06-28</td>\n",
       "      <td>doença ou praga</td>\n",
       "      <td>deferida</td>\n",
       "      <td>POLYGON ((-52.42006 -23.9753, -52.42016 -23.97...</td>\n",
       "    </tr>\n",
       "  </tbody>\n",
       "</table>\n",
       "<p>1 rows × 28 columns</p>\n",
       "</div>"
      ],
      "text/plain": [
       "    gid  gleba_gid  ref_bacen  nu_ordem  nu_indice data_emissao_contrato  \\\n",
       "0  2115    4445466  513320941         1          0            2022-01-03   \n",
       "\n",
       "      area_gleba  perimetro_gleba  area_menor_retangulo_envolvente  \\\n",
       "0  211423.677914      2904.238901                    450743.714007   \n",
       "\n",
       "   area_menor_circulo_envolvente  ... cop_fim_colheita rcp_inicio_plantio  \\\n",
       "0                  647747.686306  ...       2022-08-02         2022-02-20   \n",
       "\n",
       "  rcp_fim_plantio rcp_inicio_colheita rcp_fim_colheita rcp_inicio_evento  \\\n",
       "0      2022-02-28          2022-08-15       2022-08-22        2022-05-01   \n",
       "\n",
       "  rcp_fim_evento   proagro_evento proagro_status  \\\n",
       "0     2022-06-28  doença ou praga       deferida   \n",
       "\n",
       "                                            geometry  \n",
       "0  POLYGON ((-52.42006 -23.9753, -52.42016 -23.97...  \n",
       "\n",
       "[1 rows x 28 columns]"
      ]
     },
     "execution_count": 7,
     "metadata": {},
     "output_type": "execute_result"
    }
   ],
   "source": [
    "polygon = gpd_read_file(os.path.join(path_dir, \"glebas/selecao_glebas_pr_2022.gpkg\"))\n",
    "\n",
    "polygon = polygon[polygon['gid'] == 2115]\n",
    "polygon"
   ]
  },
  {
   "cell_type": "markdown",
   "metadata": {},
   "source": [
    "In order to retrieve the phenological metrics associated with a region, it's necessary to define a region methodology (`all`, `systematic` or `random`)."
   ]
  },
  {
   "cell_type": "markdown",
   "metadata": {},
   "source": [
    "# Retrieving the Phenological Metrics for Region (Systematic)\n",
    "<hr style=\"border:1px solid #0077b9;\">\n",
    "\n",
    "In order to retrieve the phenological metrics associated with a region via `systematic` methodology, with that the metrics are calculated using time series `NDVI`, for each of the given spatial location from `January 1st, 2022` to `December 31st, 2022` and distance of 0.04 km, use the `get_phenometrics_region` function:"
   ]
  },
  {
   "cell_type": "code",
   "execution_count": 8,
   "metadata": {},
   "outputs": [],
   "source": [
    "pms=get_phenometrics_region(\n",
    "    url=wcpms_url,\n",
    "    cube=datacube,\n",
    "    geom=gdf_to_geojson(polygon[\"geometry\"]),\n",
    "    method=\"systematic\",\n",
    "\tdistance=\"0.015\"\n",
    ")"
   ]
  },
  {
   "cell_type": "code",
   "execution_count": 9,
   "metadata": {},
   "outputs": [
    {
     "data": {
      "image/png": "[encoded data removed]",
      "text/plain": [
       "<Figure size 640x480 with 1 Axes>"
      ]
     },
     "metadata": {},
     "output_type": "display_data"
    }
   ],
   "source": [
    "plot_points_region(polygon, pms)"
   ]
  },
  {
   "cell_type": "code",
   "execution_count": 10,
   "metadata": {},
   "outputs": [
    {
     "data": {
      "text/plain": [
       "{'phenometrics': {'aos_v': 7572.1669921875,\n",
       "  'bse_v': 6250.41650390625,\n",
       "  'eos_t': '2022-01-01T00:00:00',\n",
       "  'eos_v': -9999,\n",
       "  'lios_v': 0.0,\n",
       "  'liot_v': 120318.4140625,\n",
       "  'los_v': 48.0,\n",
       "  'mos_v': 10036.5,\n",
       "  'pos_t': '2022-12-20T00:00:00',\n",
       "  'pos_v': 10036.5,\n",
       "  'rod_v': -9999,\n",
       "  'roi_v': 128.18402099609375,\n",
       "  'sios_v': 0.0,\n",
       "  'siot_v': 66103.09375,\n",
       "  'sos_t': '2022-11-02T00:00:00',\n",
       "  'sos_v': 3883.666748046875,\n",
       "  'vos_t': '2022-09-15T00:00:00',\n",
       "  'vos_v': 2464.333251953125},\n",
       " 'point': [-52.42102723286529, -23.978741820645162],\n",
       " 'timeline': ['2022-01-01',\n",
       "  '2022-01-17',\n",
       "  '2022-02-02',\n",
       "  '2022-02-18',\n",
       "  '2022-03-06',\n",
       "  '2022-03-22',\n",
       "  '2022-04-07',\n",
       "  '2022-04-23',\n",
       "  '2022-05-09',\n",
       "  '2022-05-25',\n",
       "  '2022-06-10',\n",
       "  '2022-06-26',\n",
       "  '2022-07-12',\n",
       "  '2022-07-28',\n",
       "  '2022-08-13',\n",
       "  '2022-08-29',\n",
       "  '2022-09-14',\n",
       "  '2022-09-30',\n",
       "  '2022-10-16',\n",
       "  '2022-11-01',\n",
       "  '2022-11-17',\n",
       "  '2022-12-03',\n",
       "  '2022-12-19'],\n",
       " 'timeseries': [6451.66650390625,\n",
       "  6392.66650390625,\n",
       "  5533.0,\n",
       "  3991.0,\n",
       "  3326.0,\n",
       "  4603.33349609375,\n",
       "  6320.0,\n",
       "  7700.0,\n",
       "  7813.66650390625,\n",
       "  7918.33349609375,\n",
       "  7654.66650390625,\n",
       "  6876.33349609375,\n",
       "  5969.66650390625,\n",
       "  4999.33349609375,\n",
       "  4196.33349609375,\n",
       "  3215.666748046875,\n",
       "  2464.333251953125,\n",
       "  2517.0,\n",
       "  3110.0,\n",
       "  3883.666748046875,\n",
       "  5928.33349609375,\n",
       "  7661.0,\n",
       "  10036.5]}"
      ]
     },
     "execution_count": 10,
     "metadata": {},
     "output_type": "execute_result"
    }
   ],
   "source": [
    "pms[7]"
   ]
  },
  {
   "cell_type": "code",
   "execution_count": 11,
   "metadata": {},
   "outputs": [
    {
     "data": {
      "image/png": "[encoded data removed]",
      "text/plain": [
       "<Figure size 640x480 with 1 Axes>"
      ]
     },
     "metadata": {},
     "output_type": "display_data"
    }
   ],
   "source": [
    "plot_advanced_phenometrics(cube=datacube, ds_phenos=pms[9], shape=polygon)"
   ]
  },
  {
   "cell_type": "markdown",
   "metadata": {},
   "source": [
    "# Retrieve Description\n",
    "<hr style=\"border:1px solid #0077b9;\">\n",
    "\n",
    "Once you start using wcpms to extract phenology metrics, the information about each metric becomes very important. To help you with that, we provide a complete description of all the metrics provided by the service. It is possible to plot a table with all the descriptions with the `get_description` function:"
   ]
  },
  {
   "cell_type": "code",
   "execution_count": 12,
   "metadata": {},
   "outputs": [
    {
     "data": {
      "text/html": [
       "<table style=\"width:90%;margin-left:5%;margin-right:5%;margin-top:5%;\"><tr><td><b>Code</b></td><td><b>Name</b></td><td><b>Description</b></td><td><b>Method</b></td><td><b>Value</b></td><td><b>Time</b></td></tr><tr><td>POS</td><td>Peak of Season</td><td>Highest vegetation value and time of season.</td><td>Maximum value in a timeseries.</td><td>True</td><td>True</td></tr><tr><td>MOS</td><td>Middle of Season</td><td>Mean vegetation value and time of values in top 80 of season.</td><td>Mean value and time where the left and right slope edges have increased and decreased to the 80 level of the season, respectively.</td><td>True</td><td>False</td></tr><tr><td>VOS</td><td>Valley of Season</td><td>Lowest vegetation value and time of season.</td><td>Minimum value in a timeseries.</td><td>True</td><td>True</td></tr><tr><td>BSE</td><td>Base</td><td>Mean of the lowest vegetation values in season.</td><td>Mean value of the lowest vegetation values to the left and right of Peak of Season.</td><td>True</td><td>False</td></tr><tr><td>SOS</td><td>Start of Season</td><td>Vegetation value and time at the start of season.</td><td>Six methods available: 1) seasonal amplitude; 2) absolute amplitude; 3) Relative amplitude; 4) LOESS STL Trend line; 5) First value of positive slope; and 6) Median value of positive slope.</td><td>True</td><td>True</td></tr><tr><td>EOS</td><td>End of season</td><td>Vegetation value and time at the end of season.</td><td>Six methods available: 1) seasonal amplitude; 2) absolute amplitude; 3) Relative amplitude; 4) LOESS STL Trend line; 5) First value of negative slope; and 6) Median value of negative slope.</td><td>True</td><td>True</td></tr><tr><td>LOS</td><td>Length of Season</td><td>Length of time (number of days) between the start and end of season.</td><td>The day of year at SOS minus EOS.</td><td>False</td><td>True</td></tr><tr><td>ROI</td><td>Rate of Increase</td><td>The rate of vegetation 'green up' at the beginning of season.</td><td>Calculated as the ratio of the difference between the left 20 and 80 levels and the corresponding time difference.</td><td>True</td><td>False</td></tr><tr><td>ROD</td><td>Rate of Decrease</td><td>The rate of vegetation 'green down' at the end of season.</td><td>Calculated as the ratio of the difference between the right 20 and 80 levels and the corresponding time difference.</td><td>True</td><td>False</td></tr><tr><td>AOS</td><td>Amplitude of Season</td><td>The amplitude of vegetation values for season.</td><td>The difference between the maximum value and the VOS/BSE value.</td><td>True</td><td>False</td></tr><tr><td>SIOS</td><td>Short Integral of Season</td><td>Represents the seasonally active vegetation and provides a larger value for herbaceous vegetation cover and smaller value for evergreen vegetation cover.</td><td>Calculated using the trapezoidal rule on the total vegetation values between season start and end minus the VOS/BSE level value.</td><td>True</td><td>False</td></tr><tr><td>LIOS</td><td>Long Integral of Season</td><td>Represents the total productivity of vegetation when in season.</td><td>Calculated using the trapezoidal rule between the total vegetation values between season start and end.</td><td>True</td><td>False</td></tr><tr><td>SIOT</td><td>Short Integral of Total</td><td>Represents total vegetation productivity throughout the season, and provides a larger value for herbaceous vegetation cover and smaller value for evergreen vegetation cover.</td><td>Calculated using the trapezoidal rule on the total vegetation values minus the VOS/BSE level value.</td><td>True</td><td>False</td></tr><tr><td>LIOT</td><td>Long Integral of Total</td><td>Represents the total productivity of vegetation throughout the season.</td><td>Calculated using the trapezoidal rule between the total vegetation values between season start and end.</td><td>True</td><td>False</td></tr><tr><td>NOS</td><td>Number of Seasons</td><td>Total number of seasons (i.e. prominent graph peaks) in timerseries.</td><td>Peaks detected using scipy find_peaks and any peaks are over 3 months apart.</td><td>False</td><td>False</td></tr></table>"
      ],
      "text/plain": [
       "<IPython.core.display.HTML object>"
      ]
     },
     "metadata": {},
     "output_type": "display_data"
    }
   ],
   "source": [
    "description=get_description(\n",
    "    url = wcpms_url\n",
    ")\n",
    "\n",
    "description"
   ]
  },
  {
   "cell_type": "markdown",
   "metadata": {},
   "source": [
    "# References\n",
    "<hr style=\"border:1px solid #0077b9;\">"
   ]
  },
  {
   "cell_type": "markdown",
   "metadata": {},
   "source": []
  },
  {
   "cell_type": "markdown",
   "metadata": {
    "editable": true,
    "slideshow": {
     "slide_type": ""
    },
    "tags": []
   },
   "source": [
    "# See also the following Jupyter Notebooks\n",
    "<hr style=\"border:1px solid #0077b9;\">\n",
    "\n",
    "* [WTSS Examples](./wtss-examples.ipynb)"
   ]
  }
 ],
 "metadata": {
  "kernelspec": {
   "display_name": "Python 3",
   "language": "python",
   "name": "python3"
  },
  "language_info": {
   "codemirror_mode": {
    "name": "ipython",
    "version": 3
   },
   "file_extension": ".py",
   "mimetype": "text/x-python",
   "name": "python",
   "nbconvert_exporter": "python",
   "pygments_lexer": "ipython3",
   "version": "3.12.3"
  }
 },
 "nbformat": 4,
 "nbformat_minor": 4
}
