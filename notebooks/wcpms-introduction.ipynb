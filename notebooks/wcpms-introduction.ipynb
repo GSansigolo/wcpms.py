{
 "cells": [
  {
   "cell_type": "markdown",
   "metadata": {
    "editable": true,
    "slideshow": {
     "slide_type": ""
    },
    "tags": []
   },
   "source": [
    "# <span style=\"color:#336699\">Introduction to the Web Crop Phenology Metrics Service (WCPMS)</span>\n",
    "<hr style=\"border:2px solid #0077b9;\">\n",
    "\n",
    "<div style=\"text-align: left;\">\n",
    "    <a href=\"https://nbviewer.jupyter.org/github/brazil-data-cube/code-gallery/\"><img src=\"https://raw.githubusercontent.com/jupyter/design/master/logos/Badges/nbviewer_badge.svg\" align=\"center\"/></a>\n",
    "</div>\n",
    "\n",
    "<br/>\n",
    "\n",
    "<div style=\"text-align: center;font-size: 90%;\">\n",
    "    Gabriel Sansigolo<sup><a href=\"https://orcid.org/0000-0003-0789-5858\"><i class=\"fab fa-lg fa-orcid\" style=\"color: #a6ce39\"></i></a></sup>\n",
    "    <br/><br/>\n",
    "    Earth Observation and Geoinformatics Division, National Institute for Space Research (INPE)\n",
    "    <br/>\n",
    "    Avenida dos Astronautas, 1758, Jardim da Granja, São José dos Campos, SP 12227-010, Brazil\n",
    "    <br/><br/>\n",
    "    Contact: <a href=\"mailto:brazildatacube@inpe.br\">brazildatacube@inpe.br</a>\n",
    "    <br/><br/>\n",
    "    Last Update: June 14, 2024\n",
    "</div>\n",
    "\n",
    "<br/>\n",
    "\n",
    "<div style=\"text-align: justify;  margin-left: 25%; margin-right: 25%;\">\n",
    "<b>Abstract.</b> This Jupyter Notebook gives an overview on how to use the WCPMS service to extract phenology metrics from <em>Earth Observation Data Cubes</em>.\n",
    "</div>\n",
    "\n",
    "<br/>\n",
    "<div style=\"text-align: justify;  margin-left: 25%; margin-right: 25%;font-size: 75%; border-style: solid; border-color: #0077b9; border-width: 1px; padding: 5px;\">\n",
    "    <b>This Jupyter Notebook is a supplement to the following paper:</b>\n",
    "    <div style=\"margin-left: 10px; margin-right: 10px\">\n",
    "    Sansigolo, G.; Queiroz, G. R.; Ferreira, K. R.; Adami, M.; Körting, T.<a href=\"http://www.google.com\" target=\"_blank\">A Web Service for Crop Sowing and Harvesting Detection from Earth Observation Data Cubes.\n",
    "    </div>\n",
    "</div>"
   ]
  },
  {
   "cell_type": "markdown",
   "metadata": {},
   "source": [
    "# Introduction\n",
    "<hr style=\"border:1px solid #0077b9;\">"
   ]
  },
  {
   "cell_type": "markdown",
   "metadata": {},
   "source": [
    "The Web Crop Phenology Metrics Service (WCPMS) is an web service for calculating phenological metrics based on Phenolopy library and EO Data from the Brazil Data Cube (BDC). It will allow analysts to calculate phenological metrics from data cubes without downloading big EO datasets to their personal computers.\n",
    "\n",
    "The software run on the server side, so it doesn’t require package installation. Through a simple API, analysts indicate a spatial location or region and the WCPMS will retrieve the phenological metrics associated with spatial locations by calculating it using time series. \n",
    "\n",
    "The WCPMS is a web service, and it can be accessed through its API. To facilitate these operations, we have developed an official client—a simple Python library. The WCPMS Client is composed of a group of functions, the main ones are:\n",
    "\n",
    "- ``get_collections``: returns in list format the unique identifier of each of the data cubes available in the BDC’s SpatioTemporal Asset Catalogs (STAC).\n",
    "\n",
    "- ``get_description``: returns in dictionary format the information on each of the phenology metrics, such as code, name, description and method. \t\n",
    "\n",
    "- ``get_phenometrics``: returns in dictionary form all the phenological metrics calculated for the given spatial location.\n",
    "\n",
    "- ``get_phenometrics_region``: returns in list form dictionary with the phenological metrics calculated for each of the given spatial location based on selected region methodology (all, systematic grid or random grid).\n",
    "\n",
    "This Jupyter Notebook shows how to use WCPMS in Python."
   ]
  },
  {
   "cell_type": "markdown",
   "metadata": {},
   "source": [
    "## Web Service\n",
    "<hr style=\"border:1px solid #0077b9;\">"
   ]
  },
  {
   "cell_type": "markdown",
   "metadata": {},
   "source": [
    "The architecture of the proposed web service is made up of two sides: (1) the server-side and (2) the client-side. It will allow analysts to calculate phenological metrics from data cubes with no need to download big EO datasets to their personal computers. \n",
    "\n",
    "The web service runs on the server-side, so everything related to it, such as the libraries for calculating phenological metrics, the access to the web service for extracting time series (WTSS), is on the cloud, so it doesn’t require any package installation. \n",
    "\n",
    "<div align=\"center\">\n",
    "    <figcaption><strong>Figure 1</strong> - Architecture of the web service for phenological metrics extraction </figcaption>\n",
    "    <img src=\"https://github.com/GSansigolo/wcpms.py/blob/master/docs/sphinx/img/wcpms_architecture.png?raw=true\" align=\"center\" width=\"768\"/>\n",
    "    <br>\n",
    "</div>\n"
   ]
  },
  {
   "cell_type": "markdown",
   "metadata": {},
   "source": [
    "# Python Client API\n",
    "<hr style=\"border:1px solid #0077b9;\">"
   ]
  },
  {
   "cell_type": "markdown",
   "metadata": {},
   "source": [
    "For running the examples in this Jupyter Notebook you will need to install the [WCPMS client for Python](https://github.com/brazil-data-cube/wcpms.py). To install it from PyPI using `pip`, use the following command:"
   ]
  },
  {
   "cell_type": "code",
   "execution_count": 1,
   "metadata": {
    "editable": true,
    "scrolled": true,
    "slideshow": {
     "slide_type": ""
    },
    "tags": []
   },
   "outputs": [
    {
     "name": "stdout",
     "output_type": "stream",
     "text": [
      "Collecting git+https://github.com/brazil-data-cube/wcpms.py\n",
      "  Cloning https://github.com/brazil-data-cube/wcpms.py to /private/var/folders/2b/3r28ml1d7yj3ltn73r94__hr0000gn/T/pip-req-build-bhujt_99\n",
      "  Running command git clone --filter=blob:none --quiet https://github.com/brazil-data-cube/wcpms.py /private/var/folders/2b/3r28ml1d7yj3ltn73r94__hr0000gn/T/pip-req-build-bhujt_99\n",
      "  Resolved https://github.com/brazil-data-cube/wcpms.py to commit c586991d20e0b50f1a8abe04cbb52e96e9677140\n",
      "  Installing build dependencies ... \u001b[?25ldone\n",
      "\u001b[?25h  Getting requirements to build wheel ... \u001b[?25ldone\n",
      "\u001b[?25h  Installing backend dependencies ... \u001b[?25ldone\n",
      "\u001b[?25h  Preparing metadata (pyproject.toml) ... \u001b[?25ldone\n",
      "\u001b[?25hRequirement already satisfied: urllib3==2.2.2 in /Library/Frameworks/Python.framework/Versions/3.11/lib/python3.11/site-packages (from wcpms==0.0.1) (2.2.2)\n",
      "Requirement already satisfied: requests==2.32.3 in /Library/Frameworks/Python.framework/Versions/3.11/lib/python3.11/site-packages (from wcpms==0.0.1) (2.32.3)\n",
      "Requirement already satisfied: pandas==2.2.2 in /Library/Frameworks/Python.framework/Versions/3.11/lib/python3.11/site-packages (from wcpms==0.0.1) (2.2.2)\n",
      "Requirement already satisfied: matplotlib==3.9.0 in /Library/Frameworks/Python.framework/Versions/3.11/lib/python3.11/site-packages (from wcpms==0.0.1) (3.9.0)\n",
      "Requirement already satisfied: scipy==1.13.1 in /Library/Frameworks/Python.framework/Versions/3.11/lib/python3.11/site-packages (from wcpms==0.0.1) (1.13.1)\n",
      "Requirement already satisfied: datetime==5.5 in /Library/Frameworks/Python.framework/Versions/3.11/lib/python3.11/site-packages (from wcpms==0.0.1) (5.5)\n",
      "Requirement already satisfied: zope.interface in /Library/Frameworks/Python.framework/Versions/3.11/lib/python3.11/site-packages (from datetime==5.5->wcpms==0.0.1) (6.4.post2)\n",
      "Requirement already satisfied: pytz in /Library/Frameworks/Python.framework/Versions/3.11/lib/python3.11/site-packages (from datetime==5.5->wcpms==0.0.1) (2023.3.post1)\n",
      "Requirement already satisfied: contourpy>=1.0.1 in /Library/Frameworks/Python.framework/Versions/3.11/lib/python3.11/site-packages (from matplotlib==3.9.0->wcpms==0.0.1) (1.2.1)\n",
      "Requirement already satisfied: cycler>=0.10 in /Library/Frameworks/Python.framework/Versions/3.11/lib/python3.11/site-packages (from matplotlib==3.9.0->wcpms==0.0.1) (0.12.1)\n",
      "Requirement already satisfied: fonttools>=4.22.0 in /Library/Frameworks/Python.framework/Versions/3.11/lib/python3.11/site-packages (from matplotlib==3.9.0->wcpms==0.0.1) (4.53.1)\n",
      "Requirement already satisfied: kiwisolver>=1.3.1 in /Library/Frameworks/Python.framework/Versions/3.11/lib/python3.11/site-packages (from matplotlib==3.9.0->wcpms==0.0.1) (1.4.5)\n",
      "Requirement already satisfied: numpy>=1.23 in /Library/Frameworks/Python.framework/Versions/3.11/lib/python3.11/site-packages (from matplotlib==3.9.0->wcpms==0.0.1) (1.26.3)\n",
      "Requirement already satisfied: packaging>=20.0 in /Library/Frameworks/Python.framework/Versions/3.11/lib/python3.11/site-packages (from matplotlib==3.9.0->wcpms==0.0.1) (23.2)\n",
      "Requirement already satisfied: pillow>=8 in /Library/Frameworks/Python.framework/Versions/3.11/lib/python3.11/site-packages (from matplotlib==3.9.0->wcpms==0.0.1) (10.4.0)\n",
      "Requirement already satisfied: pyparsing>=2.3.1 in /Library/Frameworks/Python.framework/Versions/3.11/lib/python3.11/site-packages (from matplotlib==3.9.0->wcpms==0.0.1) (3.1.1)\n",
      "Requirement already satisfied: python-dateutil>=2.7 in /Library/Frameworks/Python.framework/Versions/3.11/lib/python3.11/site-packages (from matplotlib==3.9.0->wcpms==0.0.1) (2.8.2)\n",
      "Requirement already satisfied: tzdata>=2022.7 in /Library/Frameworks/Python.framework/Versions/3.11/lib/python3.11/site-packages (from pandas==2.2.2->wcpms==0.0.1) (2023.4)\n",
      "Requirement already satisfied: charset-normalizer<4,>=2 in /Library/Frameworks/Python.framework/Versions/3.11/lib/python3.11/site-packages (from requests==2.32.3->wcpms==0.0.1) (3.3.2)\n",
      "Requirement already satisfied: idna<4,>=2.5 in /Library/Frameworks/Python.framework/Versions/3.11/lib/python3.11/site-packages (from requests==2.32.3->wcpms==0.0.1) (3.6)\n",
      "Requirement already satisfied: certifi>=2017.4.17 in /Library/Frameworks/Python.framework/Versions/3.11/lib/python3.11/site-packages (from requests==2.32.3->wcpms==0.0.1) (2023.11.17)\n",
      "Requirement already satisfied: six>=1.5 in /Library/Frameworks/Python.framework/Versions/3.11/lib/python3.11/site-packages (from python-dateutil>=2.7->matplotlib==3.9.0->wcpms==0.0.1) (1.16.0)\n",
      "Requirement already satisfied: setuptools in /Library/Frameworks/Python.framework/Versions/3.11/lib/python3.11/site-packages (from zope.interface->datetime==5.5->wcpms==0.0.1) (65.5.0)\n",
      "\n",
      "\u001b[1m[\u001b[0m\u001b[34;49mnotice\u001b[0m\u001b[1;39;49m]\u001b[0m\u001b[39;49m A new release of pip is available: \u001b[0m\u001b[31;49m24.0\u001b[0m\u001b[39;49m -> \u001b[0m\u001b[32;49m24.2\u001b[0m\n",
      "\u001b[1m[\u001b[0m\u001b[34;49mnotice\u001b[0m\u001b[1;39;49m]\u001b[0m\u001b[39;49m To update, run: \u001b[0m\u001b[32;49mpip install --upgrade pip\u001b[0m\n"
     ]
    }
   ],
   "source": [
    "!pip install git+https://github.com/brazil-data-cube/wcpms.py"
   ]
  },
  {
   "cell_type": "markdown",
   "metadata": {},
   "source": [
    "In order to access the funcionalities of the client API, you should import the `wcpms` package, as follows:"
   ]
  },
  {
   "cell_type": "code",
   "execution_count": 2,
   "metadata": {},
   "outputs": [],
   "source": [
    "from wcpms import *"
   ]
  },
  {
   "cell_type": "markdown",
   "metadata": {},
   "source": [
    "After that, you should add the `wcpms` service url:"
   ]
  },
  {
   "cell_type": "code",
   "execution_count": 3,
   "metadata": {},
   "outputs": [],
   "source": [
    "wcpms_url = 'https://data.inpe.br/bdc/wcpms' "
   ]
  },
  {
   "cell_type": "markdown",
   "metadata": {},
   "source": [
    "The above cell will create an string named `service` that will save the wcpms url for future use."
   ]
  },
  {
   "cell_type": "markdown",
   "metadata": {},
   "source": [
    "# Select Data Cube\n",
    "<hr style=\"border:1px solid #0077b9;\">\n",
    "\n",
    "Before creating a data cube query, it is important to select a data cubes from the BDC catalog. It is possible to retrive a list with avaliable data cubes with the `get_collections` function:"
   ]
  },
  {
   "cell_type": "code",
   "execution_count": 4,
   "metadata": {},
   "outputs": [
    {
     "data": {
      "text/plain": [
       "['CBERS4-MUX-2M-1',\n",
       " 'CBERS4-WFI-16D-2',\n",
       " 'CBERS-WFI-8D-1',\n",
       " 'LANDSAT-16D-1',\n",
       " 'mod13q1-6.1',\n",
       " 'myd13q1-6.1',\n",
       " 'S2-16D-2']"
      ]
     },
     "execution_count": 4,
     "metadata": {},
     "output_type": "execute_result"
    }
   ],
   "source": [
    "colections=get_collections(\n",
    "    url = wcpms_url\n",
    ")\n",
    "\n",
    "colections"
   ]
  },
  {
   "cell_type": "markdown",
   "metadata": {},
   "source": [
    "# Creating a Data Cube Query\n",
    "<hr style=\"border:1px solid #0077b9;\">\n",
    "\n",
    "To make it easier to use, there is a function to create a data cube query called `cube_query`:"
   ]
  },
  {
   "cell_type": "code",
   "execution_count": 5,
   "metadata": {},
   "outputs": [],
   "source": [
    "datacube=cube_query(\n",
    "    collection=\"S2-16D-2\",\n",
    "    start_date=\"2022-01-01\",\n",
    "    end_date=\"2022-12-31\",\n",
    "    freq='16D',\n",
    "    band=\"NDVI\"\n",
    ")"
   ]
  },
  {
   "cell_type": "markdown",
   "metadata": {},
   "source": [
    "The above cell will create an object named `datacube` that saves the desire BDC data cube (`S2-16D-2`)."
   ]
  },
  {
   "cell_type": "markdown",
   "metadata": {},
   "source": [
    "# Retrieving the Phenological Metrics\n",
    "<hr style=\"border:1px solid #0077b9;\">\n",
    "\n",
    "In order to retrieve the phenological metrics associated with spatial locations by calculating it using time series `NDVI`, in the location of `latitude -29.202633381242652` and `longitude -55.95542907714844 ` from `January 1st, 2022` to `December 31st, 2022`, use the `get_phenometrics` function:"
   ]
  },
  {
   "cell_type": "code",
   "execution_count": 6,
   "metadata": {},
   "outputs": [],
   "source": [
    "pm=get_phenometrics(\n",
    "    url=wcpms_url,\n",
    "    cube=datacube,\n",
    "    latitude=-29.202633381242652, longitude= -55.95542907714844 \n",
    ")"
   ]
  },
  {
   "cell_type": "code",
   "execution_count": 7,
   "metadata": {},
   "outputs": [
    {
     "data": {
      "text/plain": [
       "{'aos_v': 7071.99951171875,\n",
       " 'bse_v': 2099.0,\n",
       " 'eos_t': '2022-11-18T00:00:00',\n",
       " 'eos_v': 2537.333251953125,\n",
       " 'lios_v': 56102.0,\n",
       " 'liot_v': 90104.1640625,\n",
       " 'los_v': 128.0,\n",
       " 'mos_v': 8584.4453125,\n",
       " 'pos_t': '2022-09-15T00:00:00',\n",
       " 'pos_v': 8903.3330078125,\n",
       " 'rod_v': 99.46875,\n",
       " 'roi_v': 89.19270324707031,\n",
       " 'sios_v': 39620.0,\n",
       " 'siot_v': 49814.8359375,\n",
       " 'sos_t': '2022-07-13T00:00:00',\n",
       " 'sos_v': 3195.0,\n",
       " 'vos_t': '2022-02-19T00:00:00',\n",
       " 'vos_v': 1831.3333740234375}"
      ]
     },
     "execution_count": 7,
     "metadata": {},
     "output_type": "execute_result"
    }
   ],
   "source": [
    "pm['phenometrics']"
   ]
  },
  {
   "cell_type": "markdown",
   "metadata": {},
   "source": [
    "Each phenological metric can be accessed by the code"
   ]
  },
  {
   "cell_type": "code",
   "execution_count": 8,
   "metadata": {},
   "outputs": [
    {
     "data": {
      "text/plain": [
       "'2022-07-13T00:00:00'"
      ]
     },
     "execution_count": 8,
     "metadata": {},
     "output_type": "execute_result"
    }
   ],
   "source": [
    "pm['phenometrics']['sos_t']"
   ]
  },
  {
   "cell_type": "code",
   "execution_count": 9,
   "metadata": {},
   "outputs": [
    {
     "data": {
      "text/plain": [
       "'2022-11-18T00:00:00'"
      ]
     },
     "execution_count": 9,
     "metadata": {},
     "output_type": "execute_result"
    }
   ],
   "source": [
    "pm['phenometrics']['eos_t']"
   ]
  },
  {
   "cell_type": "markdown",
   "metadata": {},
   "source": [
    "It is also possible to access the time points associated to the values:"
   ]
  },
  {
   "cell_type": "code",
   "execution_count": 10,
   "metadata": {},
   "outputs": [
    {
     "data": {
      "text/plain": [
       "['2022-01-01',\n",
       " '2022-01-17',\n",
       " '2022-02-02',\n",
       " '2022-02-18',\n",
       " '2022-03-06',\n",
       " '2022-03-22',\n",
       " '2022-04-07',\n",
       " '2022-04-23',\n",
       " '2022-05-09',\n",
       " '2022-05-25',\n",
       " '2022-06-10',\n",
       " '2022-06-26',\n",
       " '2022-07-12',\n",
       " '2022-07-28',\n",
       " '2022-08-13',\n",
       " '2022-08-29',\n",
       " '2022-09-14',\n",
       " '2022-09-30',\n",
       " '2022-10-16',\n",
       " '2022-11-01',\n",
       " '2022-11-17',\n",
       " '2022-12-03',\n",
       " '2022-12-19']"
      ]
     },
     "execution_count": 10,
     "metadata": {},
     "output_type": "execute_result"
    }
   ],
   "source": [
    "pm['timeseries']['timeline']"
   ]
  },
  {
   "cell_type": "markdown",
   "metadata": {},
   "source": [
    "# Visualizing the Time Series with Phenological Metrics in Matplotlib\n",
    "<hr style=\"border:1px solid #0077b9;\">\n",
    "\n",
    "If you have Matplotlib and Numpy installed, it is possible to plot the time series with the `plot_phenometrics` function:"
   ]
  },
  {
   "cell_type": "code",
   "execution_count": 11,
   "metadata": {},
   "outputs": [
    {
     "data": {
      "image/png": "[encoded data removed]",
      "text/plain": [
       "<Figure size 640x480 with 1 Axes>"
      ]
     },
     "metadata": {},
     "output_type": "display_data"
    }
   ],
   "source": [
    "plot_phenometrics(datacube, pm)"
   ]
  },
  {
   "cell_type": "markdown",
   "metadata": {},
   "source": [
    "# Retrieve Description\n",
    "<hr style=\"border:1px solid #0077b9;\">\n",
    "\n",
    "Once you start using wcpms to extract phenology metrics, the information about each metric becomes very important. To help you with that, we provide a complete description of all the metrics provided by the service. It is possible to plot a table with all the descriptions with the `get_description` function:"
   ]
  },
  {
   "cell_type": "code",
   "execution_count": 12,
   "metadata": {},
   "outputs": [
    {
     "data": {
      "text/html": [
       "<table style=\"width:90%;margin-left:5%;margin-right:5%;margin-top:5%;\"><tr><td><b>Code</b></td><td><b>Name</b></td><td><b>Description</b></td><td><b>Method</b></td><td><b>Value</b></td><td><b>Time</b></td></tr><tr><td>POS</td><td>Peak of Season</td><td>Highest vegetation value and time of season.</td><td>Maximum value in a timeseries.</td><td>True</td><td>True</td></tr><tr><td>MOS</td><td>Middle of Season</td><td>Mean vegetation value and time of values in top 80 of season.</td><td>Mean value and time where the left and right slope edges have increased and decreased to the 80 level of the season, respectively.</td><td>True</td><td>False</td></tr><tr><td>VOS</td><td>Valley of Season</td><td>Lowest vegetation value and time of season.</td><td>Minimum value in a timeseries.</td><td>True</td><td>True</td></tr><tr><td>BSE</td><td>Base</td><td>Mean of the lowest vegetation values in season.</td><td>Mean value of the lowest vegetation values to the left and right of Peak of Season.</td><td>True</td><td>False</td></tr><tr><td>SOS</td><td>Start of Season</td><td>Vegetation value and time at the start of season.</td><td>Six methods available: 1) seasonal amplitude; 2) absolute amplitude; 3) Relative amplitude; 4) LOESS STL Trend line; 5) First value of positive slope; and 6) Median value of positive slope.</td><td>True</td><td>True</td></tr><tr><td>EOS</td><td>End of season</td><td>Vegetation value and time at the end of season.</td><td>Six methods available: 1) seasonal amplitude; 2) absolute amplitude; 3) Relative amplitude; 4) LOESS STL Trend line; 5) First value of negative slope; and 6) Median value of negative slope.</td><td>True</td><td>True</td></tr><tr><td>LOS</td><td>Length of Season</td><td>Length of time (number of days) between the start and end of season.</td><td>The day of year at SOS minus EOS.</td><td>False</td><td>True</td></tr><tr><td>ROI</td><td>Rate of Increase</td><td>The rate of vegetation 'green up' at the beginning of season.</td><td>Calculated as the ratio of the difference between the left 20 and 80 levels and the corresponding time difference.</td><td>True</td><td>False</td></tr><tr><td>ROD</td><td>Rate of Decrease</td><td>The rate of vegetation 'green down' at the end of season.</td><td>Calculated as the ratio of the difference between the right 20 and 80 levels and the corresponding time difference.</td><td>True</td><td>False</td></tr><tr><td>AOS</td><td>Amplitude of Season</td><td>The amplitude of vegetation values for season.</td><td>The difference between the maximum value and the VOS/BSE value.</td><td>True</td><td>False</td></tr><tr><td>SIOS</td><td>Short Integral of Season</td><td>Represents the seasonally active vegetation and provides a larger value for herbaceous vegetation cover and smaller value for evergreen vegetation cover.</td><td>Calculated using the trapezoidal rule on the total vegetation values between season start and end minus the VOS/BSE level value.</td><td>True</td><td>False</td></tr><tr><td>LIOS</td><td>Long Integral of Season</td><td>Represents the total productivity of vegetation when in season.</td><td>Calculated using the trapezoidal rule between the total vegetation values between season start and end.</td><td>True</td><td>False</td></tr><tr><td>SIOT</td><td>Short Integral of Total</td><td>Represents total vegetation productivity throughout the season, and provides a larger value for herbaceous vegetation cover and smaller value for evergreen vegetation cover.</td><td>Calculated using the trapezoidal rule on the total vegetation values minus the VOS/BSE level value.</td><td>True</td><td>False</td></tr><tr><td>LIOT</td><td>Long Integral of Total</td><td>Represents the total productivity of vegetation throughout the season.</td><td>Calculated using the trapezoidal rule between the total vegetation values between season start and end.</td><td>True</td><td>False</td></tr><tr><td>NOS</td><td>Number of Seasons</td><td>Total number of seasons (i.e. prominent graph peaks) in timerseries.</td><td>Peaks detected using scipy find_peaks and any peaks are over 3 months apart.</td><td>False</td><td>False</td></tr></table>"
      ],
      "text/plain": [
       "<IPython.core.display.HTML object>"
      ]
     },
     "metadata": {},
     "output_type": "display_data"
    }
   ],
   "source": [
    "description=get_description(\n",
    "    url = wcpms_url\n",
    ")\n",
    "\n",
    "description"
   ]
  },
  {
   "cell_type": "markdown",
   "metadata": {},
   "source": [
    "# References\n",
    "<hr style=\"border:1px solid #0077b9;\">"
   ]
  },
  {
   "cell_type": "markdown",
   "metadata": {},
   "source": []
  },
  {
   "cell_type": "markdown",
   "metadata": {
    "editable": true,
    "slideshow": {
     "slide_type": ""
    },
    "tags": []
   },
   "source": [
    "# See also the following Jupyter Notebooks\n",
    "<hr style=\"border:1px solid #0077b9;\">\n",
    "\n",
    "* [WTSS Examples](./wtss-examples.ipynb)"
   ]
  }
 ],
 "metadata": {
  "kernelspec": {
   "display_name": "Python 3",
   "language": "python",
   "name": "python3"
  },
  "language_info": {
   "codemirror_mode": {
    "name": "ipython",
    "version": 3
   },
   "file_extension": ".py",
   "mimetype": "text/x-python",
   "name": "python",
   "nbconvert_exporter": "python",
   "pygments_lexer": "ipython3",
   "version": "3.10.12"
  }
 },
 "nbformat": 4,
 "nbformat_minor": 4
}
